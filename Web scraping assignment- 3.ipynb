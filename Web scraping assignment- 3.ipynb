{
 "cells": [
  {
   "cell_type": "markdown",
   "id": "2ea10dcd",
   "metadata": {},
   "source": [
    "Question 1"
   ]
  },
  {
   "cell_type": "code",
   "execution_count": 1,
   "id": "cd303c52",
   "metadata": {},
   "outputs": [
    {
     "name": "stdout",
     "output_type": "stream",
     "text": [
      "Requirement already satisfied: selenium in c:\\datatrained\\lib\\site-packages (4.10.0)\n",
      "Requirement already satisfied: certifi>=2021.10.8 in c:\\datatrained\\lib\\site-packages (from selenium) (2022.9.14)\n",
      "Requirement already satisfied: trio-websocket~=0.9 in c:\\datatrained\\lib\\site-packages (from selenium) (0.10.3)\n",
      "Requirement already satisfied: urllib3[socks]<3,>=1.26 in c:\\datatrained\\lib\\site-packages (from selenium) (1.26.11)\n",
      "Requirement already satisfied: trio~=0.17 in c:\\datatrained\\lib\\site-packages (from selenium) (0.22.2)\n",
      "Requirement already satisfied: attrs>=20.1.0 in c:\\datatrained\\lib\\site-packages (from trio~=0.17->selenium) (21.4.0)\n",
      "Requirement already satisfied: exceptiongroup>=1.0.0rc9 in c:\\datatrained\\lib\\site-packages (from trio~=0.17->selenium) (1.1.2)\n",
      "Requirement already satisfied: outcome in c:\\datatrained\\lib\\site-packages (from trio~=0.17->selenium) (1.2.0)\n",
      "Requirement already satisfied: sniffio in c:\\datatrained\\lib\\site-packages (from trio~=0.17->selenium) (1.2.0)\n",
      "Requirement already satisfied: sortedcontainers in c:\\datatrained\\lib\\site-packages (from trio~=0.17->selenium) (2.4.0)\n",
      "Requirement already satisfied: cffi>=1.14 in c:\\datatrained\\lib\\site-packages (from trio~=0.17->selenium) (1.15.1)\n",
      "Requirement already satisfied: idna in c:\\datatrained\\lib\\site-packages (from trio~=0.17->selenium) (3.3)\n",
      "Requirement already satisfied: wsproto>=0.14 in c:\\datatrained\\lib\\site-packages (from trio-websocket~=0.9->selenium) (1.2.0)\n",
      "Requirement already satisfied: PySocks!=1.5.7,<2.0,>=1.5.6 in c:\\datatrained\\lib\\site-packages (from urllib3[socks]<3,>=1.26->selenium) (1.7.1)\n",
      "Requirement already satisfied: pycparser in c:\\datatrained\\lib\\site-packages (from cffi>=1.14->trio~=0.17->selenium) (2.21)\n",
      "Requirement already satisfied: h11<1,>=0.9.0 in c:\\datatrained\\lib\\site-packages (from wsproto>=0.14->trio-websocket~=0.9->selenium) (0.14.0)\n"
     ]
    }
   ],
   "source": [
    "!pip install selenium\n",
    "\n",
    "\n",
    "import selenium                                 \n",
    "from bs4 import BeautifulSoup\n",
    "from selenium import webdriver                   \n",
    "import pandas as pd                         \n",
    "from selenium.webdriver.common.by import By     \n",
    "import warnings                                 \n",
    "warnings.filterwarnings(\"ignore\")\n",
    "import time                                      \n",
    "import re\n",
    "from selenium.common.exceptions import NoSuchElementException, StaleElementReferenceException\n",
    "from selenium.webdriver.support.ui import WebDriverWait"
   ]
  },
  {
   "cell_type": "code",
   "execution_count": null,
   "id": "a14ab1c6",
   "metadata": {},
   "outputs": [],
   "source": [
    "driver = webdriver.Chrome()\n",
    "driver.get(\"https://www.amazon.in/\")"
   ]
  },
  {
   "cell_type": "code",
   "execution_count": 13,
   "id": "159406b9",
   "metadata": {},
   "outputs": [],
   "source": [
    "user=driver.find_element(By.ID,\"twotabsearchtextbox\")\n",
    "user.send_keys(\"guitar\")"
   ]
  },
  {
   "cell_type": "code",
   "execution_count": 14,
   "id": "8a129713",
   "metadata": {},
   "outputs": [],
   "source": [
    "search=driver.find_element(By.ID,\"nav-search-submit-button\")\n",
    "search.click()"
   ]
  },
  {
   "cell_type": "code",
   "execution_count": 15,
   "id": "0ae28ada",
   "metadata": {},
   "outputs": [],
   "source": [
    "brand_name = []\n",
    "product_name = []\n",
    "ratings = []\n",
    "num_ratings = []\n",
    "prices = []\n",
    "exchange = []\n",
    "exp_delivery = []\n",
    "availability = []\n",
    "other_details = []"
   ]
  },
  {
   "cell_type": "code",
   "execution_count": 16,
   "id": "5a2d7b7e",
   "metadata": {},
   "outputs": [],
   "source": [
    "urls=[]\n",
    "for i in range(0,3):\n",
    "    page_url=driver.find_elements(By.XPATH,'/html/body/div[1]/div[2]/div[1]/div[1]/div/span[1]/div[1]/div[3]/div/div/div/div/div/div/div[2]/div[1]/h2/a/span')\n",
    "    for i in page_url:\n",
    "        urls.append(i.get_attribute('href'))\n",
    "    nxt_btn=driver.find_element(By.XPATH,'/html/body/div[1]/div[2]/div[1]/div[1]/div/span[1]/div[1]/div[67]/div/div/span/a[3]')\n",
    "    time.sleep(5)"
   ]
  },
  {
   "cell_type": "code",
   "execution_count": 17,
   "id": "30f854fc",
   "metadata": {},
   "outputs": [
    {
     "ename": "InvalidArgumentException",
     "evalue": "Message: invalid argument: 'url' must be a string\n  (Session info: chrome=115.0.5790.171)\nStacktrace:\nBacktrace:\n\tGetHandleVerifier [0x00E0A813+48355]\n\t(No symbol) [0x00D9C4B1]\n\t(No symbol) [0x00CA5358]\n\t(No symbol) [0x00CFCF98]\n\t(No symbol) [0x00CEA73C]\n\t(No symbol) [0x00CFC922]\n\t(No symbol) [0x00CEA536]\n\t(No symbol) [0x00CC82DC]\n\t(No symbol) [0x00CC93DD]\n\tGetHandleVerifier [0x0106AABD+2539405]\n\tGetHandleVerifier [0x010AA78F+2800735]\n\tGetHandleVerifier [0x010A456C+2775612]\n\tGetHandleVerifier [0x00E951E0+616112]\n\t(No symbol) [0x00DA5F8C]\n\t(No symbol) [0x00DA2328]\n\t(No symbol) [0x00DA240B]\n\t(No symbol) [0x00D94FF7]\n\tBaseThreadInitThunk [0x77637D59+25]\n\tRtlInitializeExceptionChain [0x77A4B79B+107]\n\tRtlClearBits [0x77A4B71F+191]\n",
     "output_type": "error",
     "traceback": [
      "\u001b[1;31m---------------------------------------------------------------------------\u001b[0m",
      "\u001b[1;31mInvalidArgumentException\u001b[0m                  Traceback (most recent call last)",
      "\u001b[1;32m~\\AppData\\Local\\Temp\\ipykernel_4108\\321378636.py\u001b[0m in \u001b[0;36m<module>\u001b[1;34m\u001b[0m\n\u001b[0;32m      1\u001b[0m \u001b[1;32mfor\u001b[0m \u001b[0mi\u001b[0m \u001b[1;32min\u001b[0m \u001b[0murls\u001b[0m\u001b[1;33m:\u001b[0m\u001b[1;33m\u001b[0m\u001b[1;33m\u001b[0m\u001b[0m\n\u001b[1;32m----> 2\u001b[1;33m     \u001b[0mdriver\u001b[0m\u001b[1;33m.\u001b[0m\u001b[0mget\u001b[0m\u001b[1;33m(\u001b[0m\u001b[0mi\u001b[0m\u001b[1;33m)\u001b[0m\u001b[1;33m\u001b[0m\u001b[1;33m\u001b[0m\u001b[0m\n\u001b[0m\u001b[0;32m      3\u001b[0m     \u001b[0mtime\u001b[0m\u001b[1;33m.\u001b[0m\u001b[0msleep\u001b[0m\u001b[1;33m(\u001b[0m\u001b[1;36m3\u001b[0m\u001b[1;33m)\u001b[0m\u001b[1;33m\u001b[0m\u001b[1;33m\u001b[0m\u001b[0m\n\u001b[0;32m      4\u001b[0m \u001b[1;33m\u001b[0m\u001b[0m\n\u001b[0;32m      5\u001b[0m \u001b[1;33m\u001b[0m\u001b[0m\n",
      "\u001b[1;32mC:\\datatrained\\lib\\site-packages\\selenium\\webdriver\\remote\\webdriver.py\u001b[0m in \u001b[0;36mget\u001b[1;34m(self, url)\u001b[0m\n\u001b[0;32m    353\u001b[0m     \u001b[1;32mdef\u001b[0m \u001b[0mget\u001b[0m\u001b[1;33m(\u001b[0m\u001b[0mself\u001b[0m\u001b[1;33m,\u001b[0m \u001b[0murl\u001b[0m\u001b[1;33m:\u001b[0m \u001b[0mstr\u001b[0m\u001b[1;33m)\u001b[0m \u001b[1;33m->\u001b[0m \u001b[1;32mNone\u001b[0m\u001b[1;33m:\u001b[0m\u001b[1;33m\u001b[0m\u001b[1;33m\u001b[0m\u001b[0m\n\u001b[0;32m    354\u001b[0m         \u001b[1;34m\"\"\"Loads a web page in the current browser session.\"\"\"\u001b[0m\u001b[1;33m\u001b[0m\u001b[1;33m\u001b[0m\u001b[0m\n\u001b[1;32m--> 355\u001b[1;33m         \u001b[0mself\u001b[0m\u001b[1;33m.\u001b[0m\u001b[0mexecute\u001b[0m\u001b[1;33m(\u001b[0m\u001b[0mCommand\u001b[0m\u001b[1;33m.\u001b[0m\u001b[0mGET\u001b[0m\u001b[1;33m,\u001b[0m \u001b[1;33m{\u001b[0m\u001b[1;34m\"url\"\u001b[0m\u001b[1;33m:\u001b[0m \u001b[0murl\u001b[0m\u001b[1;33m}\u001b[0m\u001b[1;33m)\u001b[0m\u001b[1;33m\u001b[0m\u001b[1;33m\u001b[0m\u001b[0m\n\u001b[0m\u001b[0;32m    356\u001b[0m \u001b[1;33m\u001b[0m\u001b[0m\n\u001b[0;32m    357\u001b[0m     \u001b[1;33m@\u001b[0m\u001b[0mproperty\u001b[0m\u001b[1;33m\u001b[0m\u001b[1;33m\u001b[0m\u001b[0m\n",
      "\u001b[1;32mC:\\datatrained\\lib\\site-packages\\selenium\\webdriver\\remote\\webdriver.py\u001b[0m in \u001b[0;36mexecute\u001b[1;34m(self, driver_command, params)\u001b[0m\n\u001b[0;32m    344\u001b[0m         \u001b[0mresponse\u001b[0m \u001b[1;33m=\u001b[0m \u001b[0mself\u001b[0m\u001b[1;33m.\u001b[0m\u001b[0mcommand_executor\u001b[0m\u001b[1;33m.\u001b[0m\u001b[0mexecute\u001b[0m\u001b[1;33m(\u001b[0m\u001b[0mdriver_command\u001b[0m\u001b[1;33m,\u001b[0m \u001b[0mparams\u001b[0m\u001b[1;33m)\u001b[0m\u001b[1;33m\u001b[0m\u001b[1;33m\u001b[0m\u001b[0m\n\u001b[0;32m    345\u001b[0m         \u001b[1;32mif\u001b[0m \u001b[0mresponse\u001b[0m\u001b[1;33m:\u001b[0m\u001b[1;33m\u001b[0m\u001b[1;33m\u001b[0m\u001b[0m\n\u001b[1;32m--> 346\u001b[1;33m             \u001b[0mself\u001b[0m\u001b[1;33m.\u001b[0m\u001b[0merror_handler\u001b[0m\u001b[1;33m.\u001b[0m\u001b[0mcheck_response\u001b[0m\u001b[1;33m(\u001b[0m\u001b[0mresponse\u001b[0m\u001b[1;33m)\u001b[0m\u001b[1;33m\u001b[0m\u001b[1;33m\u001b[0m\u001b[0m\n\u001b[0m\u001b[0;32m    347\u001b[0m             \u001b[0mresponse\u001b[0m\u001b[1;33m[\u001b[0m\u001b[1;34m\"value\"\u001b[0m\u001b[1;33m]\u001b[0m \u001b[1;33m=\u001b[0m \u001b[0mself\u001b[0m\u001b[1;33m.\u001b[0m\u001b[0m_unwrap_value\u001b[0m\u001b[1;33m(\u001b[0m\u001b[0mresponse\u001b[0m\u001b[1;33m.\u001b[0m\u001b[0mget\u001b[0m\u001b[1;33m(\u001b[0m\u001b[1;34m\"value\"\u001b[0m\u001b[1;33m,\u001b[0m \u001b[1;32mNone\u001b[0m\u001b[1;33m)\u001b[0m\u001b[1;33m)\u001b[0m\u001b[1;33m\u001b[0m\u001b[1;33m\u001b[0m\u001b[0m\n\u001b[0;32m    348\u001b[0m             \u001b[1;32mreturn\u001b[0m \u001b[0mresponse\u001b[0m\u001b[1;33m\u001b[0m\u001b[1;33m\u001b[0m\u001b[0m\n",
      "\u001b[1;32mC:\\datatrained\\lib\\site-packages\\selenium\\webdriver\\remote\\errorhandler.py\u001b[0m in \u001b[0;36mcheck_response\u001b[1;34m(self, response)\u001b[0m\n\u001b[0;32m    243\u001b[0m                 \u001b[0malert_text\u001b[0m \u001b[1;33m=\u001b[0m \u001b[0mvalue\u001b[0m\u001b[1;33m[\u001b[0m\u001b[1;34m\"alert\"\u001b[0m\u001b[1;33m]\u001b[0m\u001b[1;33m.\u001b[0m\u001b[0mget\u001b[0m\u001b[1;33m(\u001b[0m\u001b[1;34m\"text\"\u001b[0m\u001b[1;33m)\u001b[0m\u001b[1;33m\u001b[0m\u001b[1;33m\u001b[0m\u001b[0m\n\u001b[0;32m    244\u001b[0m             \u001b[1;32mraise\u001b[0m \u001b[0mexception_class\u001b[0m\u001b[1;33m(\u001b[0m\u001b[0mmessage\u001b[0m\u001b[1;33m,\u001b[0m \u001b[0mscreen\u001b[0m\u001b[1;33m,\u001b[0m \u001b[0mstacktrace\u001b[0m\u001b[1;33m,\u001b[0m \u001b[0malert_text\u001b[0m\u001b[1;33m)\u001b[0m  \u001b[1;31m# type: ignore[call-arg]  # mypy is not smart enough here\u001b[0m\u001b[1;33m\u001b[0m\u001b[1;33m\u001b[0m\u001b[0m\n\u001b[1;32m--> 245\u001b[1;33m         \u001b[1;32mraise\u001b[0m \u001b[0mexception_class\u001b[0m\u001b[1;33m(\u001b[0m\u001b[0mmessage\u001b[0m\u001b[1;33m,\u001b[0m \u001b[0mscreen\u001b[0m\u001b[1;33m,\u001b[0m \u001b[0mstacktrace\u001b[0m\u001b[1;33m)\u001b[0m\u001b[1;33m\u001b[0m\u001b[1;33m\u001b[0m\u001b[0m\n\u001b[0m",
      "\u001b[1;31mInvalidArgumentException\u001b[0m: Message: invalid argument: 'url' must be a string\n  (Session info: chrome=115.0.5790.171)\nStacktrace:\nBacktrace:\n\tGetHandleVerifier [0x00E0A813+48355]\n\t(No symbol) [0x00D9C4B1]\n\t(No symbol) [0x00CA5358]\n\t(No symbol) [0x00CFCF98]\n\t(No symbol) [0x00CEA73C]\n\t(No symbol) [0x00CFC922]\n\t(No symbol) [0x00CEA536]\n\t(No symbol) [0x00CC82DC]\n\t(No symbol) [0x00CC93DD]\n\tGetHandleVerifier [0x0106AABD+2539405]\n\tGetHandleVerifier [0x010AA78F+2800735]\n\tGetHandleVerifier [0x010A456C+2775612]\n\tGetHandleVerifier [0x00E951E0+616112]\n\t(No symbol) [0x00DA5F8C]\n\t(No symbol) [0x00DA2328]\n\t(No symbol) [0x00DA240B]\n\t(No symbol) [0x00D94FF7]\n\tBaseThreadInitThunk [0x77637D59+25]\n\tRtlInitializeExceptionChain [0x77A4B79B+107]\n\tRtlClearBits [0x77A4B71F+191]\n"
     ]
    }
   ],
   "source": [
    "for i in urls:\n",
    "    driver.get(i)\n",
    "    time.sleep(3)\n",
    "    \n",
    "    \n",
    "     #fetching brand name \n",
    "    try:\n",
    "        brand = driver.find_element(By.XPATH,'//span[@class=\"a-size-base po-break-word\"]')\n",
    "        brand_name.append(brand.text)\n",
    "    except NoSuchElementException:\n",
    "        brand_name.append('-')\n",
    "    \n",
    "    # fetching Name of the Product\n",
    "    try:\n",
    "        product = driver.find_element(By.XPATH,\"//span[@id='productTitle']\")\n",
    "        product_name.append(product.text)\n",
    "    except NoSuchElementException:\n",
    "        product_name.append('-')\n",
    "        \n",
    "         #fetching price of the product\n",
    "    try:\n",
    "        price = driver.find_element(By.XPATH,'//span[@class=\"a-price-whole\"]')\n",
    "        prices.append(price.text)\n",
    "    except NoSuchElementException:\n",
    "        prices.append('-')\n",
    "        \n",
    "        \n",
    "    #fetching return/exchange\n",
    "    try:\n",
    "        exch = driver.find_element(By.XPATH,'//span[@class=\"a-size-small a-color-link a-text-normal\"]')\n",
    "        exchange.append(exch.text)\n",
    "    except NoSuchElementException:\n",
    "        exchange.append('-')\n",
    "        \n",
    "         #fetching expected delivery\n",
    "    try:\n",
    "        delivery = driver.find_element(By.XPATH,'//span[@class=\"a-text-bold\"]')\n",
    "        exp_delivery.append(delivery.text)\n",
    "    except NoSuchElementException:\n",
    "        exp_delivery.append('-')\n",
    "        \n",
    "\n",
    "    #fetching availability information\n",
    "    try:\n",
    "        avail = driver.find_element(By.XPATH,'//span[@class=\"a-size-medium a-color-success\"]')\n",
    "        availability.append(avail.text)\n",
    "    except NoSuchElementException:\n",
    "        availability.append('-')"
   ]
  },
  {
   "cell_type": "markdown",
   "id": "cd4066bc",
   "metadata": {},
   "source": [
    "Question 7"
   ]
  },
  {
   "cell_type": "code",
   "execution_count": 78,
   "id": "3575624c",
   "metadata": {},
   "outputs": [],
   "source": [
    "driver=webdriver.Chrome()\n",
    "driver.get('http:www.forbes.com')      \n",
    "time.sleep(3)"
   ]
  },
  {
   "cell_type": "code",
   "execution_count": 79,
   "id": "388861b3",
   "metadata": {},
   "outputs": [],
   "source": [
    "option=driver.find_element(By.XPATH,'/html/body/div[1]/header/nav/div[1]/div[1]/div/div')\n",
    "option.click()"
   ]
  },
  {
   "cell_type": "code",
   "execution_count": 80,
   "id": "787d4ca4",
   "metadata": {},
   "outputs": [],
   "source": [
    "Billion=driver.find_element(By.XPATH,'//div[@class=\"mpBfVZz3\"]')\n",
    "Billion.click()"
   ]
  },
  {
   "cell_type": "code",
   "execution_count": 82,
   "id": "40d489e9",
   "metadata": {},
   "outputs": [],
   "source": [
    "Billionaires=driver.find_element(By.XPATH,'/html/body/div[1]/div/div[1]/header/div[1]/div[1]/div[2]/ul/li[2]/div[2]/div[3]/ul/li[1]')\n",
    "Billionaires.click()"
   ]
  },
  {
   "cell_type": "code",
   "execution_count": 83,
   "id": "22f6d9e9",
   "metadata": {},
   "outputs": [],
   "source": [
    "Rank = []\n",
    "Person_Name = []\n",
    "Net_worth = []\n",
    "Age = []\n",
    "Citizenship = []\n",
    "Source = []\n",
    "Industry = []"
   ]
  },
  {
   "cell_type": "code",
   "execution_count": null,
   "id": "8e0d5a0c",
   "metadata": {},
   "outputs": [],
   "source": [
    "while(True):\n",
    "    \n",
    "    # scraping the data of rank of the billionaires\n",
    "    rank_tag = driver.find_elements(By.XPATH,'//div[@class=\"Table_rank___YBhk Table_dataCell__2QCve\"]')\n",
    "    for rank in rank_tag:\n",
    "        Rank.append(rank.text)\n",
    "    time.sleep(1)\n",
    "    \n",
    "    \n",
    " \n",
    "    # scraping the data  of names of the billionaires\n",
    "    name_tag = driver.find_elements(By.XPATH,\"/html/body/div[1]/div[2]/div[3]/div[2]/div[2]/div[2]/div[1]/div[1]/div[1]/div[2]/div[1]/div[1]/div[2]/div\")\n",
    "    for name in name_tag:\n",
    "        Person_Name.append(name.text)\n",
    "    time.sleep(1)\n",
    "    \n",
    "    \n",
    "    # scraping the data of age of the billionaires\n",
    "    age_tag = driver.find_elements(By.XPATH,\"/html/body/div[1]/div[2]/div[3]/div[2]/div[2]/div[2]/div[1]/div[1]/div[1]/div[2]/div[1]/div[1]/div[4]/div\")\n",
    "    for age in age_tag:\n",
    "        Age.append(age.text)\n",
    "    time.sleep(1)\n",
    "    \n",
    "     # scraping the data of citizenship of the billionaires\n",
    "    cit_tag = driver.find_elements(By.XPATH,\"/html/body/div[1]/div[2]/div[3]/div[2]/div[2]/div[2]/div[1]/div[1]/div[1]/div[2]/div[1]/div[1]/div[5]\")\n",
    "    for cit in cit_tag:\n",
    "        Citizenship.append(cit.text)\n",
    "    time.sleep(1)\n",
    "    \n",
    "    \n",
    "    # scraping the data of source of income of the billionaires\n",
    "    sour_tag = driver.find_elements(By.XPATH,\"/html/body/div[1]/div[2]/div[3]/div[2]/div[2]/div[2]/div[1]/div[1]/div[1]/div[2]/div[1]/div[1]/div[6]/div\")\n",
    "    for sour in sour_tag:\n",
    "        Source.append(sour.text)\n",
    "    time.sleep(1)\n",
    "\n",
    "    # scraping data of net_worth of billionaires\n",
    "    net_tag = driver.find_elements(By.XPATH,\"/html/body/div[1]/div[2]/div[3]/div[2]/div[2]/div[2]/div[1]/div[1]/div[1]/div[2]/div[1]/div[1]/div[3]/div\")\n",
    "    for net in net_tag:\n",
    "        Net_worth.append(net.text)\n",
    "    time.sleep(1)"
   ]
  },
  {
   "cell_type": "code",
   "execution_count": 181,
   "id": "81a556a6",
   "metadata": {},
   "outputs": [],
   "source": [
    "print(len(Rank),\n",
    "len(Person_Name),\n",
    "len(Net_worth),\n",
    "len(Age),\n",
    "len(Citizenship),\n",
    "len(Source),\n",
    "len(Industry))"
   ]
  },
  {
   "cell_type": "code",
   "execution_count": null,
   "id": "fa7c9f4b",
   "metadata": {},
   "outputs": [],
   "source": []
  },
  {
   "cell_type": "markdown",
   "id": "1e7d66b0",
   "metadata": {},
   "source": [
    "QUESTION 9"
   ]
  },
  {
   "cell_type": "code",
   "execution_count": 85,
   "id": "4afbc904",
   "metadata": {},
   "outputs": [],
   "source": [
    "driver = webdriver.Chrome()\n",
    "driver.get(\"https://www.hostelworld.com/\")\n",
    "time.sleep(2)"
   ]
  },
  {
   "cell_type": "code",
   "execution_count": 86,
   "id": "ecbf435e",
   "metadata": {},
   "outputs": [],
   "source": [
    "location=driver.find_element(By.XPATH,'/html/body/div[3]/div/div/div[2]/div[2]/div[2]/div/div[2]/div/div/div[2]/div/div[1]/div/div[1]/div/div/div[2]/input')\n",
    "location.send_keys('london')"
   ]
  },
  {
   "cell_type": "code",
   "execution_count": 87,
   "id": "a371f793",
   "metadata": {},
   "outputs": [],
   "source": [
    "london=driver.find_element(By.XPATH,'/html/body/div[3]/div/div/div[2]/div[2]/div[2]/div/div[2]/div/div/div[2]/div/div[1]/div/div[2]/div/ul/li[2]/button/div[2]/div[1]')\n",
    "london.click()"
   ]
  },
  {
   "cell_type": "code",
   "execution_count": 88,
   "id": "7379189d",
   "metadata": {},
   "outputs": [],
   "source": [
    "Nxt_btn=driver.find_element(By.XPATH,\"/html/body/div[3]/div/div/div[2]/div[2]/div[2]/div/div[2]/div/div/div[3]/div/div/button[2]\")\n",
    "Nxt_btn.click()"
   ]
  },
  {
   "cell_type": "code",
   "execution_count": 89,
   "id": "e22ea356",
   "metadata": {},
   "outputs": [],
   "source": [
    "lets_go=driver.find_element(By.XPATH,\"/html/body/div[3]/div/div/div[2]/div[2]/div[2]/div/div[2]/div/div/div[3]/div/div/button\")\n",
    "lets_go.click()"
   ]
  },
  {
   "cell_type": "code",
   "execution_count": 90,
   "id": "81eb7e62",
   "metadata": {},
   "outputs": [],
   "source": [
    "hostel_name = []\n",
    "distance = []\n",
    "pvt_prices = []\n",
    "dorms_price = []\n",
    "rating = []\n",
    "reviews = []\n",
    "over_all = []\n",
    "facilities = []\n",
    "description = []"
   ]
  },
  {
   "cell_type": "code",
   "execution_count": 98,
   "id": "b750c7aa",
   "metadata": {},
   "outputs": [],
   "source": [
    "\n",
    "# Scraping distance from city centre\n",
    "dist_elements = driver.find_elements(By.XPATH, '/html/body/div[3]/div/div/div[2]/div[2]/div[2]/div[1]/div/div/div/div/div[5]/div[1]/a/a/div[2]/div[3]/span[2]')\n",
    "distances = []\n",
    "\n",
    "for dist_element in dist_elements:\n",
    "    distances.append(dist_element.text)\n",
    "\n",
    "# Scraping privates from price\n",
    "pvt_price_element = driver.find_element(By.XPATH, '/html/body/div[3]/div/div/div[2]/div/div[2]/div[1]/div/div/div/div/div[5]/div[1]/a/a/div[2]/div[5]/div/div[1]/div[3]/strong')\n",
    "pvt_price = pvt_price_element.text\n",
    "\n",
    "# Scraping dorms from price\n",
    "dorms_element = driver.find_element(By.XPATH, '/html/body/div[3]/div/div/div[2]/div/div[2]/div[1]/div/div/div/div/div[5]/div[1]/a/a/div[2]/div[5]/div/div[2]/div[3]/strong')\n",
    "dorms = dorms_element.text\n",
    "    \n"
   ]
  },
  {
   "cell_type": "code",
   "execution_count": 99,
   "id": "bce83115",
   "metadata": {},
   "outputs": [],
   "source": [
    "# scraping the required informations\n",
    "for i in driver.find_elements(By.XPATH,\"/html/body/div[3]/div/div/div[2]/div[2]/div[2]/div[1]/div/div/div/div/div[5]/div[1]/a/a/div[2]/div[1]\"):\n",
    "    i.click()\n",
    "    time.sleep(3)"
   ]
  },
  {
   "cell_type": "code",
   "execution_count": null,
   "id": "f1599af5",
   "metadata": {},
   "outputs": [],
   "source": []
  },
  {
   "cell_type": "code",
   "execution_count": null,
   "id": "603f5ca7",
   "metadata": {},
   "outputs": [],
   "source": [
    "\n",
    "        "
   ]
  },
  {
   "cell_type": "code",
   "execution_count": 100,
   "id": "0a547a0e",
   "metadata": {},
   "outputs": [],
   "source": [
    "    # scraping  hostel name\n",
    "    try:\n",
    "        name = driver.find_elements(By.XPATH,'/html/body/div[3]/div/div/div[2]/section/div[4]/div/div[1]/h1/div')\n",
    "        for i in name:\n",
    "            hostel_name.append(i.text)\n",
    "    except NoSuchElementException:\n",
    "        hostel_name.append('-')       \n",
    "            \n",
    "    # scraping facilities\n",
    "    try:\n",
    "        fac1 = driver.find_elements(By.XPATH,\"//div[@class='has-wifi']\")\n",
    "        fac2 = driver.find_elements(By.XPATH,\"//div[@class='has-sanitation']\")\n",
    "        for i in fac1:\n",
    "            for j in fac2:\n",
    "                facilities.append(i.text +', '+ j.text)\n",
    "    except NoSuchElementException:\n",
    "        facilities.append('-')\n",
    "    \n",
    "    # scraping ratings\n",
    "    try:\n",
    "        rat = driver.find_element(By.XPATH,'/html/body/div[3]/div/div/div[2]/section/div[12]/div[1]/div/div[2]/div[1]')\n",
    "        rating.append(rat.text)\n",
    "    except NoSuchElementException:\n",
    "        rating.append('-')\n",
    "        \n",
    "        \n",
    "    # scraping total review\n",
    "    try:\n",
    "        rws = driver.find_element(By.XPATH,'/html/body/div[3]/div/div/div[2]/section/div[12]/div[1]/div/div[2]/div[2]')\n",
    "        reviews.append(rws.text.replace('Total Reviews',''))\n",
    "    except NoSuchElementException:\n",
    "        reviews.append('-')\n",
    "        \n",
    "        \n",
    "    # fetching over all review\n",
    "    try:\n",
    "        overall = driver.find_element(By.XPATH,'/html/body/div[3]/div/div/div[2]/section/div[12]/div[1]/div/div[1]')\n",
    "        over_all.append(overall.text)\n",
    "    except NoSuchElementException:\n",
    "        over_all.append('-')\n",
    "        \n",
    "        \n",
    "    # fetching property description\n",
    "    try:\n",
    "        disc = driver.find_element(By.XPATH,\"/html/body/div[3]/div/div/div[2]/section/div[9]/div/div[2]/div[4]/div/div[2]\")\n",
    "        description.append(disc.text)\n",
    "    except NoSuchElementException:\n",
    "        over_all.append('-')\n",
    "    \n",
    "    # do click on show more button for description\n",
    "    try:\n",
    "        driver.find_element(By.XPATH,\"/html/body/div[3]/div/div/div[2]/section/div[9]/div/div[2]/div[4]/div/a\").click()\n",
    "        time.sleep(4)\n",
    "    except NoSuchElementException:\n",
    "        pass\n",
    "    \n",
    "               \n"
   ]
  },
  {
   "cell_type": "code",
   "execution_count": 101,
   "id": "9deccdc3",
   "metadata": {},
   "outputs": [
    {
     "name": "stdout",
     "output_type": "stream",
     "text": [
      "1 0 0 0 2 2 3 0 1\n"
     ]
    }
   ],
   "source": [
    "print(len(hostel_name),\n",
    "len(distance),\n",
    "len(pvt_prices),\n",
    "len(dorms_price),\n",
    "len(rating),\n",
    "len(reviews),\n",
    "len(over_all),\n",
    "len(facilities),\n",
    "len(description))"
   ]
  },
  {
   "cell_type": "code",
   "execution_count": null,
   "id": "b3e9d429",
   "metadata": {},
   "outputs": [],
   "source": []
  },
  {
   "cell_type": "code",
   "execution_count": null,
   "id": "1471cd70",
   "metadata": {},
   "outputs": [],
   "source": []
  },
  {
   "cell_type": "markdown",
   "id": "e1169a5e",
   "metadata": {},
   "source": [
    "Question 6"
   ]
  },
  {
   "cell_type": "code",
   "execution_count": 45,
   "id": "cb5e2a6f",
   "metadata": {},
   "outputs": [],
   "source": [
    "driver = webdriver.Chrome()\n",
    "driver.get(\"https://www.digit.in/\")\n",
    "time.sleep(2)"
   ]
  },
  {
   "cell_type": "code",
   "execution_count": 46,
   "id": "2f90dc62",
   "metadata": {},
   "outputs": [],
   "source": [
    "best_gam_laptops = driver.find_element(By.XPATH,\"//div[@class='listing_container']//ul//li[9]\").click()\n",
    "time.sleep(3)"
   ]
  },
  {
   "cell_type": "code",
   "execution_count": 47,
   "id": "c585db38",
   "metadata": {},
   "outputs": [],
   "source": [
    "Laptop_Name= []\n",
    "Operating_sys= []\n",
    "Display= []\n",
    "Processor= []\n",
    "Memory= []\n",
    "Weight= []\n",
    "Dimensions= []\n",
    "Graph_proc= []\n",
    "Price= []"
   ]
  },
  {
   "cell_type": "code",
   "execution_count": 48,
   "id": "6d3cb609",
   "metadata": {},
   "outputs": [],
   "source": [
    "laptop_name = driver.find_elements(By.XPATH,'//span[@class=\"datahreflink\"]')\n",
    "for name in laptop_name:\n",
    "    Laptop_Name.append(name.text)"
   ]
  },
  {
   "cell_type": "code",
   "execution_count": 49,
   "id": "836988df",
   "metadata": {},
   "outputs": [
    {
     "data": {
      "text/plain": [
       "['HP OMEN 17 (2023)',\n",
       " 'MSI Titan GT77 12UHS',\n",
       " 'Lenovo Legion 5i Pro',\n",
       " 'ASUS ROG Strix Scar 18 2023',\n",
       " 'Acer Predator Helios Neo 16',\n",
       " 'ASUS ROG Zephyrus G14',\n",
       " 'MSI Cyborg 15',\n",
       " 'CURRENT / PAST ISSUE',\n",
       " 'MAGAZINE SUBSCRIPTION']"
      ]
     },
     "execution_count": 49,
     "metadata": {},
     "output_type": "execute_result"
    }
   ],
   "source": [
    "Laptop_Name"
   ]
  },
  {
   "cell_type": "code",
   "execution_count": 50,
   "id": "2ed40ae3",
   "metadata": {},
   "outputs": [],
   "source": [
    "try:\n",
    "    op_sys = driver.find_elements(By.XPATH,\"//div[@class='product-detail']/div/ul/li[1]/div/div\")\n",
    "    for os in op_sys:\n",
    "        Operating_sys.append(os.text)\n",
    "except NoSuchElementException:\n",
    "    pass"
   ]
  },
  {
   "cell_type": "code",
   "execution_count": 51,
   "id": "7cdbf749",
   "metadata": {},
   "outputs": [
    {
     "name": "stdout",
     "output_type": "stream",
     "text": [
      "['Windows 11 Home', 'Windows 11 Home', 'Windows 11 Home', 'Windows 11 Home', 'Windows 11 Home', 'Windows 11 Home', 'Windows 11 Home']\n"
     ]
    }
   ],
   "source": [
    "print(Operating_sys)"
   ]
  },
  {
   "cell_type": "code",
   "execution_count": 52,
   "id": "679854f7",
   "metadata": {},
   "outputs": [],
   "source": [
    "try:\n",
    "    display = driver.find_elements(By.XPATH,\"//div[@class='product-detail']/div/ul/li[2]/div/div\")\n",
    "    for disp in display:\n",
    "        Display.append(disp.text)\n",
    "except NoSuchElementException:\n",
    "    pass\n",
    "\n",
    "try:\n",
    "    processor = driver.find_elements(By.XPATH,\"//div[@class='Spcs-details'][1]/table/tbody/tr[5]/td[3]\")\n",
    "    for pro in processor:\n",
    "        Processor.append(pro.text)\n",
    "except NoSuchElementException:\n",
    "    pass\n",
    "\n",
    "try:\n",
    "    memory = driver.find_elements(By.XPATH,\"//div[@class='Spcs-details'][1]/table/tbody/tr[6]/td[3]\")\n",
    "    for memo in memory:\n",
    "        Memory.append(memo.text)\n",
    "except NoSuchElementException:\n",
    "    pass\n",
    "\n",
    "\n",
    "try:\n",
    "    weight = driver.find_elements(By.XPATH,\"//div[@class='Spcs-details'][1]/table/tbody/tr[7]/td[3]\")\n",
    "    for wgt in weight:\n",
    "        Weight.append(wgt.text)\n",
    "except NoSuchElementException:\n",
    "    pass\n",
    "\n",
    "try:\n",
    "    dimension = driver.find_elements(By.XPATH,\"//div[@class='Spcs-details'][1]/table/tbody/tr[8]/td[3]\")\n",
    "    for dim in dimension:\n",
    "        Dimensions.append(dim.text)\n",
    "except NoSuchElementException:\n",
    "    pass\n",
    "\n",
    "\n",
    "try:\n",
    "    price = driver.find_elements(By.XPATH,\"//td[@class='smprice']\")\n",
    "    for pri in price:\n",
    "        Price.append(pri.text.replace('₹ ','Rs'))\n",
    "except NoSuchElementException:\n",
    "    pass"
   ]
  },
  {
   "cell_type": "code",
   "execution_count": 53,
   "id": "0ec544a3",
   "metadata": {},
   "outputs": [
    {
     "name": "stdout",
     "output_type": "stream",
     "text": [
      "9 7 7 7 7 7 7 7\n"
     ]
    }
   ],
   "source": [
    "print(len(Laptop_Name),\n",
    "len(Operating_sys),\n",
    "len(Display),\n",
    "len(Processor),\n",
    "len(Memory),\n",
    "len(Weight),\n",
    "len(Dimensions),\n",
    "len(Price))"
   ]
  },
  {
   "cell_type": "code",
   "execution_count": 54,
   "id": "f059a1a1",
   "metadata": {},
   "outputs": [],
   "source": [
    "data = {\n",
    "    'LAPTOP':Laptop_Name[:7],\n",
    "    'Operating System': Operating_sys,\n",
    "    'Display': Display,\n",
    "    'Processor': Processor,\n",
    "    'Memory': Memory,\n",
    "    'Weight': Weight,\n",
    "    'Dimensions': Dimensions,\n",
    "    'Price': Price\n",
    "}"
   ]
  },
  {
   "cell_type": "code",
   "execution_count": 55,
   "id": "4289d5b5",
   "metadata": {},
   "outputs": [],
   "source": [
    "df = pd.DataFrame(data)"
   ]
  },
  {
   "cell_type": "code",
   "execution_count": 56,
   "id": "985d3c79",
   "metadata": {},
   "outputs": [
    {
     "data": {
      "text/html": [
       "<div>\n",
       "<style scoped>\n",
       "    .dataframe tbody tr th:only-of-type {\n",
       "        vertical-align: middle;\n",
       "    }\n",
       "\n",
       "    .dataframe tbody tr th {\n",
       "        vertical-align: top;\n",
       "    }\n",
       "\n",
       "    .dataframe thead th {\n",
       "        text-align: right;\n",
       "    }\n",
       "</style>\n",
       "<table border=\"1\" class=\"dataframe\">\n",
       "  <thead>\n",
       "    <tr style=\"text-align: right;\">\n",
       "      <th></th>\n",
       "      <th>LAPTOP</th>\n",
       "      <th>Operating System</th>\n",
       "      <th>Display</th>\n",
       "      <th>Processor</th>\n",
       "      <th>Memory</th>\n",
       "      <th>Weight</th>\n",
       "      <th>Dimensions</th>\n",
       "      <th>Price</th>\n",
       "    </tr>\n",
       "  </thead>\n",
       "  <tbody>\n",
       "    <tr>\n",
       "      <th>0</th>\n",
       "      <td>HP OMEN 17 (2023)</td>\n",
       "      <td>Windows 11 Home</td>\n",
       "      <td>17.3\" (2560 x 1440)</td>\n",
       "      <td>16 GB DDR5GB RAM &amp; 1 TB SSD</td>\n",
       "      <td>12 GB DDR6 NVIDIA GeForce RTX 4080 Graphics card</td>\n",
       "      <td>397.1 x 262 x 27 mm dimension &amp; 2.78 kg weight</td>\n",
       "      <td>₹ 269,777</td>\n",
       "      <td>Rs269,777</td>\n",
       "    </tr>\n",
       "    <tr>\n",
       "      <th>1</th>\n",
       "      <td>MSI Titan GT77 12UHS</td>\n",
       "      <td>Windows 11 Home</td>\n",
       "      <td>17.3\" (3840 x 2160)</td>\n",
       "      <td>64 GB DDR5GB RAM &amp; 2 TB SSD</td>\n",
       "      <td>16 GB DDR6 NVIDIA GeForce RTX 3080Ti Graphics ...</td>\n",
       "      <td>397 x 330 x 23 mm dimension &amp; 3.3 kg weight</td>\n",
       "      <td>₹ 499,990</td>\n",
       "      <td>Rs499,990</td>\n",
       "    </tr>\n",
       "    <tr>\n",
       "      <th>2</th>\n",
       "      <td>Lenovo Legion 5i Pro</td>\n",
       "      <td>Windows 11 Home</td>\n",
       "      <td>16\" (2560 x 1600)</td>\n",
       "      <td>32 GB DDR5GB RAM &amp; 1 TB SSD</td>\n",
       "      <td>NVIDIA GeForce RTX 3070 Ti Graphics card</td>\n",
       "      <td>359.9 x 264.4 x 19.9 mm dimension &amp; 3.6 kg weight</td>\n",
       "      <td>₹ 179,990</td>\n",
       "      <td>Rs179,990</td>\n",
       "    </tr>\n",
       "    <tr>\n",
       "      <th>3</th>\n",
       "      <td>ASUS ROG Strix Scar 18 2023</td>\n",
       "      <td>Windows 11 Home</td>\n",
       "      <td>18\" (1920 x 1200)</td>\n",
       "      <td>32 GB DDR5GB RAM &amp; 1 TB SSD</td>\n",
       "      <td>12 GB DDR6 NVIDIA GeForce RTX 4080 Graphics card</td>\n",
       "      <td>294 x 399 x 23 mm dimension &amp; 3.1 kg weight</td>\n",
       "      <td>₹ 279,990</td>\n",
       "      <td>Rs279,990</td>\n",
       "    </tr>\n",
       "    <tr>\n",
       "      <th>4</th>\n",
       "      <td>Acer Predator Helios Neo 16</td>\n",
       "      <td>Windows 11 Home</td>\n",
       "      <td>16\" (2560 x 1600)</td>\n",
       "      <td>16 GB DDR5GB RAM &amp; 1 TB SSD</td>\n",
       "      <td>8 GB DDR6 NVIDIA GeForce RTX 4060 Graphics card</td>\n",
       "      <td>360 x 279 x 28 mm dimension &amp; 2.6 kg weight</td>\n",
       "      <td>₹ 149,990</td>\n",
       "      <td>Rs149,990</td>\n",
       "    </tr>\n",
       "    <tr>\n",
       "      <th>5</th>\n",
       "      <td>ASUS ROG Zephyrus G14</td>\n",
       "      <td>Windows 11 Home</td>\n",
       "      <td>14\" (1920 x 1200)</td>\n",
       "      <td>16 GB DDR5GB RAM &amp; 1 TB SSD</td>\n",
       "      <td>8 GB DDR6 AMD Radeon RX 6700S Graphics card</td>\n",
       "      <td>312 x 227 x 19 mm dimension &amp; 1.65 kg weight</td>\n",
       "      <td>₹ 156,990</td>\n",
       "      <td>Rs156,990</td>\n",
       "    </tr>\n",
       "    <tr>\n",
       "      <th>6</th>\n",
       "      <td>MSI Cyborg 15</td>\n",
       "      <td>Windows 11 Home</td>\n",
       "      <td>15.6\" (1920 x 1080)</td>\n",
       "      <td>16 GB DDR5GB RAM &amp; 1 TB SSD</td>\n",
       "      <td>8 GB DDR6 NVIDIA GeForce RTX 4060 Graphics card</td>\n",
       "      <td>&amp; 1.98 kg weight</td>\n",
       "      <td>₹ 125,000</td>\n",
       "      <td>Rs125,000</td>\n",
       "    </tr>\n",
       "  </tbody>\n",
       "</table>\n",
       "</div>"
      ],
      "text/plain": [
       "                        LAPTOP Operating System              Display  \\\n",
       "0            HP OMEN 17 (2023)  Windows 11 Home  17.3\" (2560 x 1440)   \n",
       "1         MSI Titan GT77 12UHS  Windows 11 Home  17.3\" (3840 x 2160)   \n",
       "2         Lenovo Legion 5i Pro  Windows 11 Home    16\" (2560 x 1600)   \n",
       "3  ASUS ROG Strix Scar 18 2023  Windows 11 Home    18\" (1920 x 1200)   \n",
       "4  Acer Predator Helios Neo 16  Windows 11 Home    16\" (2560 x 1600)   \n",
       "5        ASUS ROG Zephyrus G14  Windows 11 Home    14\" (1920 x 1200)   \n",
       "6                MSI Cyborg 15  Windows 11 Home  15.6\" (1920 x 1080)   \n",
       "\n",
       "                     Processor  \\\n",
       "0  16 GB DDR5GB RAM & 1 TB SSD   \n",
       "1  64 GB DDR5GB RAM & 2 TB SSD   \n",
       "2  32 GB DDR5GB RAM & 1 TB SSD   \n",
       "3  32 GB DDR5GB RAM & 1 TB SSD   \n",
       "4  16 GB DDR5GB RAM & 1 TB SSD   \n",
       "5  16 GB DDR5GB RAM & 1 TB SSD   \n",
       "6  16 GB DDR5GB RAM & 1 TB SSD   \n",
       "\n",
       "                                              Memory  \\\n",
       "0   12 GB DDR6 NVIDIA GeForce RTX 4080 Graphics card   \n",
       "1  16 GB DDR6 NVIDIA GeForce RTX 3080Ti Graphics ...   \n",
       "2           NVIDIA GeForce RTX 3070 Ti Graphics card   \n",
       "3   12 GB DDR6 NVIDIA GeForce RTX 4080 Graphics card   \n",
       "4    8 GB DDR6 NVIDIA GeForce RTX 4060 Graphics card   \n",
       "5        8 GB DDR6 AMD Radeon RX 6700S Graphics card   \n",
       "6    8 GB DDR6 NVIDIA GeForce RTX 4060 Graphics card   \n",
       "\n",
       "                                              Weight Dimensions      Price  \n",
       "0     397.1 x 262 x 27 mm dimension & 2.78 kg weight  ₹ 269,777  Rs269,777  \n",
       "1        397 x 330 x 23 mm dimension & 3.3 kg weight  ₹ 499,990  Rs499,990  \n",
       "2  359.9 x 264.4 x 19.9 mm dimension & 3.6 kg weight  ₹ 179,990  Rs179,990  \n",
       "3        294 x 399 x 23 mm dimension & 3.1 kg weight  ₹ 279,990  Rs279,990  \n",
       "4        360 x 279 x 28 mm dimension & 2.6 kg weight  ₹ 149,990  Rs149,990  \n",
       "5       312 x 227 x 19 mm dimension & 1.65 kg weight  ₹ 156,990  Rs156,990  \n",
       "6                                   & 1.98 kg weight  ₹ 125,000  Rs125,000  "
      ]
     },
     "execution_count": 56,
     "metadata": {},
     "output_type": "execute_result"
    }
   ],
   "source": [
    "df"
   ]
  },
  {
   "cell_type": "code",
   "execution_count": 57,
   "id": "58411acf",
   "metadata": {},
   "outputs": [],
   "source": [
    "driver.quit()"
   ]
  },
  {
   "cell_type": "code",
   "execution_count": null,
   "id": "46581230",
   "metadata": {},
   "outputs": [],
   "source": []
  },
  {
   "cell_type": "markdown",
   "id": "825c63cd",
   "metadata": {},
   "source": [
    "Question 5"
   ]
  },
  {
   "cell_type": "code",
   "execution_count": 7,
   "id": "14e72296",
   "metadata": {},
   "outputs": [],
   "source": [
    "driver=webdriver.Chrome()\n",
    "driver.get('https://www.google.co.in/maps')\n",
    "search_bar = driver.find_element(By.ID,'searchboxinput')\n",
    "search_bar.send_keys('delhi')\n",
    "time.sleep(2)"
   ]
  },
  {
   "cell_type": "code",
   "execution_count": 8,
   "id": "5c9272c6",
   "metadata": {},
   "outputs": [],
   "source": [
    "search=driver.find_element(By.XPATH,'/html/body/div[3]/div[8]/div[3]/div[1]/div[1]/div/div[2]/div[1]/button')\n",
    "search.click()"
   ]
  },
  {
   "cell_type": "code",
   "execution_count": 9,
   "id": "2d8a2d7e",
   "metadata": {},
   "outputs": [
    {
     "name": "stdout",
     "output_type": "stream",
     "text": [
      "URL Extracted:  https://www.google.co.in/maps/place/Delhi/@28.6442874,76.7635648,10z/data=!3m1!4b1!4m6!3m5!1s0x390cfd5b347eb62d:0x37205b715389640!8m2!3d28.7040592!4d77.1024902!16zL20vMDlmMDc?entry=ttu\n",
      "Latitude = 28.6442874, Longitude = 76.7635648\n"
     ]
    }
   ],
   "source": [
    "import re \n",
    "try:\n",
    "    url_str = driver.current_url\n",
    "    print(\"URL Extracted: \", url_str)\n",
    "    latitude_longitude = re.findall(r'@(.*)data',url_str)\n",
    "    if len(latitude_longitude):\n",
    "        lat_lng_list = latitude_longitude[0].split(\",\")\n",
    "        if len(lat_lng_list)>=2:\n",
    "            latitude = lat_lng_list[0]\n",
    "            longitude = lat_lng_list[1]\n",
    "        print(\"Latitude = {}, Longitude = {}\".format(latitude, longitude))\n",
    "except Exception as e:\n",
    "        print(\"Error: \", str(e))"
   ]
  },
  {
   "cell_type": "code",
   "execution_count": null,
   "id": "e5c9c7d9",
   "metadata": {},
   "outputs": [],
   "source": []
  },
  {
   "cell_type": "code",
   "execution_count": null,
   "id": "8aec7cbf",
   "metadata": {},
   "outputs": [],
   "source": []
  },
  {
   "cell_type": "markdown",
   "id": "6d254b7e",
   "metadata": {},
   "source": [
    "QUESTION 3"
   ]
  },
  {
   "cell_type": "code",
   "execution_count": 9,
   "id": "2c530a1c",
   "metadata": {},
   "outputs": [],
   "source": [
    "driver=webdriver.Chrome()\n",
    "driver.get('http:www.google.com')"
   ]
  },
  {
   "cell_type": "code",
   "execution_count": 10,
   "id": "aa8729e2",
   "metadata": {},
   "outputs": [],
   "source": [
    "search_images=driver.find_element(By.XPATH,'/html/body/div[1]/div[1]/div/div/div/div[1]/div/div[2]/a')\n",
    "search_images.click()"
   ]
  },
  {
   "cell_type": "code",
   "execution_count": 11,
   "id": "5fd42014",
   "metadata": {},
   "outputs": [],
   "source": [
    "fruits=driver.find_element(By.CLASS_NAME,'gLFyf')\n",
    "fruits.send_keys('cars')"
   ]
  },
  {
   "cell_type": "code",
   "execution_count": 12,
   "id": "29eefa29",
   "metadata": {},
   "outputs": [],
   "source": [
    "search=driver.find_element(By.XPATH,'/html/body/div[1]/div[3]/form/div[1]/div[1]/div[1]/button/div/span')\n",
    "search.click()"
   ]
  },
  {
   "cell_type": "code",
   "execution_count": 13,
   "id": "1a524200",
   "metadata": {},
   "outputs": [
    {
     "name": "stdout",
     "output_type": "stream",
     "text": [
      "Requirement already satisfied: bs4 in c:\\datatrained\\lib\\site-packages (0.0.1)\n",
      "Requirement already satisfied: beautifulsoup4 in c:\\datatrained\\lib\\site-packages (from bs4) (4.11.1)\n",
      "Requirement already satisfied: soupsieve>1.2 in c:\\datatrained\\lib\\site-packages (from beautifulsoup4->bs4) (2.3.1)\n",
      "Requirement already satisfied: requests in c:\\datatrained\\lib\\site-packages (2.28.1)\n",
      "Requirement already satisfied: urllib3<1.27,>=1.21.1 in c:\\datatrained\\lib\\site-packages (from requests) (1.26.11)\n",
      "Requirement already satisfied: idna<4,>=2.5 in c:\\datatrained\\lib\\site-packages (from requests) (3.3)\n",
      "Requirement already satisfied: certifi>=2017.4.17 in c:\\datatrained\\lib\\site-packages (from requests) (2022.9.14)\n",
      "Requirement already satisfied: charset-normalizer<3,>=2 in c:\\datatrained\\lib\\site-packages (from requests) (2.0.4)\n"
     ]
    }
   ],
   "source": [
    "get_ipython().system('pip install bs4')\n",
    "get_ipython().system('pip install requests')\n",
    "\n",
    "from bs4 import BeautifulSoup\n",
    "import requests"
   ]
  },
  {
   "cell_type": "code",
   "execution_count": 15,
   "id": "7dc08e74",
   "metadata": {},
   "outputs": [
    {
     "name": "stdout",
     "output_type": "stream",
     "text": [
      "Downloading(0) of 10 images\n",
      "Downloading(0) of 10 images\n",
      "Downloading(0) of 10 images\n",
      "Downloading(0) of 10 images\n",
      "Downloading(0) of 10 images\n",
      "Downloading(0) of 10 images\n",
      "Downloading(0) of 10 images\n",
      "Downloading(0) of 10 images\n",
      "Downloading(0) of 10 images\n",
      "Downloading(0) of 10 images\n"
     ]
    }
   ],
   "source": [
    "for _ in range(20):\n",
    "    driver.execute_script('window.scrollBy(0,1000)')\n",
    "    \n",
    "images=driver.find_elements(By.XPATH,'//img[@class=\"rg_i Q4LuWd\"]')\n",
    "\n",
    "img_urls=[]\n",
    "img_data=[]\n",
    "for image in images:\n",
    "    source=image.get_attribute('src')\n",
    "    if source is not None:\n",
    "        if(source[0:4] == 'http'):\n",
    "            img_urls.append(source)\n",
    "            \n",
    "            \n",
    "for i in range(len(img_urls)):\n",
    "    if i >=10:\n",
    "        break\n",
    "    print(\"Downloading(0) of {1} images\" .format(i,10))\n",
    "    response=requests.get(img_urls[i])\n",
    "    file=open(r\"C:\\Users\\ABHI & AVI\\OneDrive\\Desktop\\cars\"+str(i)+\".jpg\",\"wb\")\n",
    "    file.write(response.content)"
   ]
  },
  {
   "cell_type": "code",
   "execution_count": null,
   "id": "d9c7c795",
   "metadata": {},
   "outputs": [],
   "source": []
  },
  {
   "cell_type": "markdown",
   "id": "ed69e5a6",
   "metadata": {},
   "source": [
    "QUESTION 4"
   ]
  },
  {
   "cell_type": "code",
   "execution_count": 16,
   "id": "29714fad",
   "metadata": {},
   "outputs": [],
   "source": [
    "driver=webdriver.Chrome()\n",
    "driver.get(\"https://www.flipkart.com/\")"
   ]
  },
  {
   "cell_type": "code",
   "execution_count": 19,
   "id": "c400a4df",
   "metadata": {},
   "outputs": [],
   "source": [
    "search=driver.find_element(By.XPATH,'/html/body/div[1]/div/div[1]/div[1]/div[2]/div[2]/form/div/div/input')\n",
    "search.send_keys('oneplus nord')"
   ]
  },
  {
   "cell_type": "code",
   "execution_count": 21,
   "id": "3a9ba8be",
   "metadata": {},
   "outputs": [],
   "source": [
    "srch=driver.find_element(By.XPATH,'/html/body/div[1]/div/div[1]/div[1]/div[2]/div[2]/form/div/button')\n",
    "srch.click()"
   ]
  },
  {
   "cell_type": "code",
   "execution_count": 22,
   "id": "0f1e0ebb",
   "metadata": {},
   "outputs": [],
   "source": [
    "page1_url = []\n",
    "urls = driver.find_elements(By.XPATH,'//div[@class=\"_4rR01T\"]')\n",
    "for url in urls:\n",
    "    page1_url.append(url.get_attribute('href'))"
   ]
  },
  {
   "cell_type": "code",
   "execution_count": 23,
   "id": "7c1c403c",
   "metadata": {},
   "outputs": [
    {
     "data": {
      "text/plain": [
       "24"
      ]
     },
     "execution_count": 23,
     "metadata": {},
     "output_type": "execute_result"
    }
   ],
   "source": [
    "len(page1_url)"
   ]
  },
  {
   "cell_type": "code",
   "execution_count": 24,
   "id": "9cb19327",
   "metadata": {},
   "outputs": [],
   "source": [
    "Brand = []\n",
    "Colour=[]\n",
    "Storage_RAM_ROM=[]\n",
    "P_F_Camera=[]\n",
    "Display_size_Resolution=[]\n",
    "ProcessorAndCores=[]\n",
    "Battery=[]\n",
    "Price=[]\n",
    "Product_URL=[]"
   ]
  },
  {
   "cell_type": "code",
   "execution_count": 25,
   "id": "13b0c2b6",
   "metadata": {},
   "outputs": [],
   "source": [
    "BName=driver.find_elements(By.XPATH,\"//div[@class='_4rR01T']\")\n",
    "for i in BName:\n",
    "    if i.text is None :\n",
    "        Brand.append(\"--\") \n",
    "    else:\n",
    "        Brand.append(i.text)\n",
    "        \n",
    "ram=driver.find_elements(By.XPATH,\"//ul[@class='_1xgFaf']//li[1]\")\n",
    "for i in ram:\n",
    "    if i.text is None :\n",
    "        Storage_RAM_ROM.append(\"--\") \n",
    "    else:\n",
    "        Storage_RAM_ROM.append(i.text)\n",
    "        \n",
    "        PC=driver.find_elements(By.XPATH,\"//ul[@class='_1xgFaf']//li[3]\")\n",
    "for i in PC:\n",
    "    if i.text is None :\n",
    "        P_F_Camera.append(\"--\") \n",
    "    else:\n",
    "        P_F_Camera.append(i.text)\n",
    "        \n",
    "        DS=driver.find_elements(By.XPATH,\"//ul[@class='_1xgFaf']//li[2]\")\n",
    "for i in DS:\n",
    "    if i.text is None :\n",
    "        Display_size_Resolution.append(\"--\") \n",
    "    else:\n",
    "        Display_size_Resolution.append(i.text)\n",
    "        \n",
    "P=driver.find_elements(By.XPATH,\"//ul[@class='_1xgFaf']//li[5]\")\n",
    "for i in P:\n",
    "    if i.text is None :\n",
    "        ProcessorAndCores.append(\"--\") \n",
    "    else:\n",
    "        ProcessorAndCores.append(i.text)   \n",
    "        \n",
    "        B=driver.find_elements(By.XPATH,\"//ul[@class='_1xgFaf']//li[4]\")\n",
    "for i in B:\n",
    "    if i.text is None :\n",
    "        Battery.append(\"--\") \n",
    "    else:\n",
    "        Battery.append(i.text)\n",
    "                               \n",
    "        price=driver.find_elements(By.XPATH,\"//div[@class='_30jeq3 _1_WHN1']\")\n",
    "for i in price:\n",
    "    if i.text is None :\n",
    "        Price.append(\"--\") \n",
    "    else:\n",
    "        Price.append(i.text)"
   ]
  },
  {
   "cell_type": "code",
   "execution_count": 29,
   "id": "494061a5",
   "metadata": {},
   "outputs": [],
   "source": [
    "FlipKart=pd.DataFrame([])\n",
    "FlipKart['Brand']=Brand\n",
    "FlipKart['Storage_RAM_ROM']=Storage_RAM_ROM\n",
    "FlipKart['Amount P_F_Camera']=P_F_Camera\n",
    "FlipKart['Display_size_Resolution']=Display_size_Resolution\n",
    "FlipKart['ProcessorAndCores']=ProcessorAndCores\n",
    "FlipKart['Battery']=Battery\n",
    "FlipKart['Price']=Price"
   ]
  },
  {
   "cell_type": "code",
   "execution_count": 30,
   "id": "249f830e",
   "metadata": {},
   "outputs": [
    {
     "data": {
      "text/html": [
       "<div>\n",
       "<style scoped>\n",
       "    .dataframe tbody tr th:only-of-type {\n",
       "        vertical-align: middle;\n",
       "    }\n",
       "\n",
       "    .dataframe tbody tr th {\n",
       "        vertical-align: top;\n",
       "    }\n",
       "\n",
       "    .dataframe thead th {\n",
       "        text-align: right;\n",
       "    }\n",
       "</style>\n",
       "<table border=\"1\" class=\"dataframe\">\n",
       "  <thead>\n",
       "    <tr style=\"text-align: right;\">\n",
       "      <th></th>\n",
       "      <th>Brand</th>\n",
       "      <th>Storage_RAM_ROM</th>\n",
       "      <th>Amount P_F_Camera</th>\n",
       "      <th>Display_size_Resolution</th>\n",
       "      <th>ProcessorAndCores</th>\n",
       "      <th>Battery</th>\n",
       "      <th>Price</th>\n",
       "    </tr>\n",
       "  </thead>\n",
       "  <tbody>\n",
       "    <tr>\n",
       "      <th>0</th>\n",
       "      <td>OnePlus Nord CE 2 Lite 5G (Blue Tide, 128 GB)</td>\n",
       "      <td>6 GB RAM | 128 GB ROM</td>\n",
       "      <td>64MP Rear Camera | 16MP Front Camera</td>\n",
       "      <td>16.74 cm (6.59 inch) Display</td>\n",
       "      <td>12 Months</td>\n",
       "      <td>5000 mAh Battery</td>\n",
       "      <td>₹17,774</td>\n",
       "    </tr>\n",
       "    <tr>\n",
       "      <th>1</th>\n",
       "      <td>OnePlus Nord 3 5G (Misty Green, 128 GB)</td>\n",
       "      <td>8 GB RAM | 128 GB ROM</td>\n",
       "      <td>50MP Rear Camera</td>\n",
       "      <td>17.12 cm (6.74 inch) Display</td>\n",
       "      <td>Domestic 1 Year of Device &amp; 6 Months for In-Bo...</td>\n",
       "      <td>5000 mAh Battery</td>\n",
       "      <td>₹32,777</td>\n",
       "    </tr>\n",
       "    <tr>\n",
       "      <th>2</th>\n",
       "      <td>OnePlus Nord CE 2 Lite 5G (Black Dusk, 128 GB)</td>\n",
       "      <td>6 GB RAM | 128 GB ROM</td>\n",
       "      <td>64MP Rear Camera | 16MP Front Camera</td>\n",
       "      <td>16.74 cm (6.59 inch) Display</td>\n",
       "      <td>12 months</td>\n",
       "      <td>5000 mAh Battery</td>\n",
       "      <td>₹17,560</td>\n",
       "    </tr>\n",
       "    <tr>\n",
       "      <th>3</th>\n",
       "      <td>OnePlus Nord 2T 5G (Gray Shadow, 128 GB)</td>\n",
       "      <td>8 GB RAM | 128 GB ROM</td>\n",
       "      <td>50MP Rear Camera</td>\n",
       "      <td>17.02 cm (6.7 inch) Display</td>\n",
       "      <td>12 Month</td>\n",
       "      <td>4500 mAh Battery</td>\n",
       "      <td>₹28,999</td>\n",
       "    </tr>\n",
       "    <tr>\n",
       "      <th>4</th>\n",
       "      <td>OnePlus Nord 2T 5G (Jade Fog, 128 GB)</td>\n",
       "      <td>8 GB RAM | 128 GB ROM</td>\n",
       "      <td>50MP Rear Camera | 32MP Front Camera</td>\n",
       "      <td>17.02 cm (6.7 inch) Display</td>\n",
       "      <td>12 Month</td>\n",
       "      <td>4500 mAh Battery</td>\n",
       "      <td>₹28,295</td>\n",
       "    </tr>\n",
       "    <tr>\n",
       "      <th>5</th>\n",
       "      <td>OnePlus Nord 2T 5G (Gray Shadow, 128 GB)</td>\n",
       "      <td>8 GB RAM | 128 GB ROM</td>\n",
       "      <td>50MP Rear Camera | 32MP Front Camera</td>\n",
       "      <td>17.02 cm (6.7 inch) Display</td>\n",
       "      <td>12 Month</td>\n",
       "      <td>4500 mAh Battery</td>\n",
       "      <td>₹27,999</td>\n",
       "    </tr>\n",
       "    <tr>\n",
       "      <th>6</th>\n",
       "      <td>OnePlus Nord 3 5G (Misty Green, 256 GB)</td>\n",
       "      <td>16 GB RAM | 256 GB ROM</td>\n",
       "      <td>50MP Rear Camera</td>\n",
       "      <td>17.12 cm (6.74 inch) Display</td>\n",
       "      <td>Domestic 1 Year of Device &amp; 6 Months for In-Bo...</td>\n",
       "      <td>5000 mAh Battery</td>\n",
       "      <td>₹37,465</td>\n",
       "    </tr>\n",
       "    <tr>\n",
       "      <th>7</th>\n",
       "      <td>OnePlus Nord 3 5G (Tempest Gray, 128 GB)</td>\n",
       "      <td>8 GB RAM | 128 GB ROM</td>\n",
       "      <td>50MP Rear Camera</td>\n",
       "      <td>17.12 cm (6.74 inch) Display</td>\n",
       "      <td>Domestic 1 Year of Device &amp; 6 Months for In-Bo...</td>\n",
       "      <td>5000 mAh Battery</td>\n",
       "      <td>₹32,687</td>\n",
       "    </tr>\n",
       "    <tr>\n",
       "      <th>8</th>\n",
       "      <td>OnePlus Nord (Gray Onyx, 64 GB)</td>\n",
       "      <td>6 GB RAM | 64 GB ROM</td>\n",
       "      <td>48MP + 8MP | 32MP + 8MP Dual Front Camera</td>\n",
       "      <td>16.36 cm (6.44 inch) Full HD+ Display</td>\n",
       "      <td>Qualcomm® Snapdragon™ 765G Processor</td>\n",
       "      <td>4115 mAh Battery</td>\n",
       "      <td>₹22,689</td>\n",
       "    </tr>\n",
       "    <tr>\n",
       "      <th>9</th>\n",
       "      <td>OnePlus Nord 3 5G (Tempest Gray, 256 GB)</td>\n",
       "      <td>16 GB RAM | 256 GB ROM</td>\n",
       "      <td>50MP Rear Camera</td>\n",
       "      <td>17.12 cm (6.74 inch) Display</td>\n",
       "      <td>Domestic 1 Year of Device &amp; 6 Months for In-Bo...</td>\n",
       "      <td>5000 mAh Battery</td>\n",
       "      <td>₹37,226</td>\n",
       "    </tr>\n",
       "    <tr>\n",
       "      <th>10</th>\n",
       "      <td>OnePlus NORD CE2 LITE 5G (Blue Tide, 128 GB)</td>\n",
       "      <td>6 GB RAM | 128 GB ROM</td>\n",
       "      <td>64MP Rear Camera</td>\n",
       "      <td>16.74 cm (6.59 inch) Display</td>\n",
       "      <td>12 MONTHS MANUFACTURING WARRANTY</td>\n",
       "      <td>5000 mAh Battery</td>\n",
       "      <td>₹17,998</td>\n",
       "    </tr>\n",
       "    <tr>\n",
       "      <th>11</th>\n",
       "      <td>OnePlus Nord 2T 5G (Gray Shadow, 128 GB)</td>\n",
       "      <td>8 GB RAM | 128 GB ROM</td>\n",
       "      <td>50MP Rear Camera</td>\n",
       "      <td>17.02 cm (6.7 inch) Display</td>\n",
       "      <td>12 Month</td>\n",
       "      <td>4500 mAh Battery</td>\n",
       "      <td>₹28,999</td>\n",
       "    </tr>\n",
       "    <tr>\n",
       "      <th>12</th>\n",
       "      <td>OnePlus Nord 2T 5G (Jade Fog, 128 GB)</td>\n",
       "      <td>8 GB RAM | 128 GB ROM</td>\n",
       "      <td>50MP Rear Camera</td>\n",
       "      <td>17.02 cm (6.7 inch) Display</td>\n",
       "      <td>12 Month</td>\n",
       "      <td>4500 mAh Battery</td>\n",
       "      <td>₹27,999</td>\n",
       "    </tr>\n",
       "    <tr>\n",
       "      <th>13</th>\n",
       "      <td>OnePlus Nord 2 5G (Blue Haze, 256 GB)</td>\n",
       "      <td>12 GB RAM | 256 GB ROM</td>\n",
       "      <td>50MP Rear Camera</td>\n",
       "      <td>16.33 cm (6.43 inch) Display</td>\n",
       "      <td>1 year Warranty</td>\n",
       "      <td>4500 mAh Battery</td>\n",
       "      <td>₹32,890</td>\n",
       "    </tr>\n",
       "    <tr>\n",
       "      <th>14</th>\n",
       "      <td>OnePlus Nord (Blue Marble, 256 GB)</td>\n",
       "      <td>12 GB RAM | 256 GB ROM</td>\n",
       "      <td>48MP + 8MP | 32MP + 8MP Dual Front Camera</td>\n",
       "      <td>16.36 cm (6.44 inch) Full HD+ Display</td>\n",
       "      <td>Qualcomm® Snapdragon™ 765G Processor</td>\n",
       "      <td>4115 mAh Battery</td>\n",
       "      <td>₹28,990</td>\n",
       "    </tr>\n",
       "    <tr>\n",
       "      <th>15</th>\n",
       "      <td>OnePlus Nord (Gray Onyx, 128 GB)</td>\n",
       "      <td>8 GB RAM | 128 GB ROM</td>\n",
       "      <td>48MP + 8MP | 32MP + 8MP Dual Front Camera</td>\n",
       "      <td>16.36 cm (6.44 inch) Full HD+ Display</td>\n",
       "      <td>Qualcomm® Snapdragon™ 765G Processor</td>\n",
       "      <td>4115 mAh Battery</td>\n",
       "      <td>₹25,990</td>\n",
       "    </tr>\n",
       "    <tr>\n",
       "      <th>16</th>\n",
       "      <td>OnePlus Nord 2 5G (Gray Sierra, 256 GB)</td>\n",
       "      <td>12 GB RAM | 256 GB ROM</td>\n",
       "      <td>50MP Rear Camera</td>\n",
       "      <td>16.33 cm (6.43 inch) Display</td>\n",
       "      <td>1 year Warranty</td>\n",
       "      <td>4500 mAh Battery</td>\n",
       "      <td>₹34,999</td>\n",
       "    </tr>\n",
       "    <tr>\n",
       "      <th>17</th>\n",
       "      <td>OnePlus Nord 2 5G (Gray Sierra, 128 GB)</td>\n",
       "      <td>8 GB RAM | 128 GB ROM</td>\n",
       "      <td>50MP Rear Camera</td>\n",
       "      <td>16.33 cm (6.43 inch) Display</td>\n",
       "      <td>1 year Warranty</td>\n",
       "      <td>4500 mAh Battery</td>\n",
       "      <td>₹29,999</td>\n",
       "    </tr>\n",
       "    <tr>\n",
       "      <th>18</th>\n",
       "      <td>OnePlus Nord 2 5G (PAC-MAN, 256 GB)</td>\n",
       "      <td>12 GB RAM | 256 GB ROM</td>\n",
       "      <td>50MP Rear Camera</td>\n",
       "      <td>16.33 cm (6.43 inch) Display</td>\n",
       "      <td>12 months</td>\n",
       "      <td>4500 mAh Battery</td>\n",
       "      <td>₹37,999</td>\n",
       "    </tr>\n",
       "    <tr>\n",
       "      <th>19</th>\n",
       "      <td>OnePlus Nord CE3 5G (Grey Shimmer, 256 GB)</td>\n",
       "      <td>12 GB RAM | 256 GB ROM</td>\n",
       "      <td>50MP Rear Camera</td>\n",
       "      <td>17.02 cm (6.7 inch) Display</td>\n",
       "      <td>Domestic 1 Year of Device &amp; 6 Months for In-Bo...</td>\n",
       "      <td>5000 mAh Battery</td>\n",
       "      <td>₹32,999</td>\n",
       "    </tr>\n",
       "    <tr>\n",
       "      <th>20</th>\n",
       "      <td>OnePlus Nord CE 5G (Charcoal Ink, 128 GB)</td>\n",
       "      <td>6 GB RAM | 128 GB ROM</td>\n",
       "      <td>64MP Rear Camera</td>\n",
       "      <td>16.33 cm (6.43 inch) Display</td>\n",
       "      <td>1 Year Warranty</td>\n",
       "      <td>4500 mAh Battery</td>\n",
       "      <td>₹22,989</td>\n",
       "    </tr>\n",
       "    <tr>\n",
       "      <th>21</th>\n",
       "      <td>OnePlus Nord 2T 5G (Jade Fog, 256 GB)</td>\n",
       "      <td>12 GB RAM | 256 GB ROM</td>\n",
       "      <td>50MP Rear Camera</td>\n",
       "      <td>17.02 cm (6.7 inch) Display</td>\n",
       "      <td>12 months Warranty</td>\n",
       "      <td>4500 mAh Battery</td>\n",
       "      <td>₹33,990</td>\n",
       "    </tr>\n",
       "    <tr>\n",
       "      <th>22</th>\n",
       "      <td>OnePlus Nord CE 5G (Blue Void, 128 GB)</td>\n",
       "      <td>8 GB RAM | 128 GB ROM</td>\n",
       "      <td>64MP Rear Camera</td>\n",
       "      <td>16.33 cm (6.43 inch) Display</td>\n",
       "      <td>1 Year Warranty</td>\n",
       "      <td>4500 mAh Battery</td>\n",
       "      <td>₹24,499</td>\n",
       "    </tr>\n",
       "    <tr>\n",
       "      <th>23</th>\n",
       "      <td>OnePlus Nord 2T 5G (Gray Shadow, 128 GB)</td>\n",
       "      <td>8 GB RAM | 128 GB ROM</td>\n",
       "      <td>50MP Rear Camera</td>\n",
       "      <td>17.02 cm (6.7 inch) Display</td>\n",
       "      <td>12 Month</td>\n",
       "      <td>4500 mAh Battery</td>\n",
       "      <td>₹28,990</td>\n",
       "    </tr>\n",
       "  </tbody>\n",
       "</table>\n",
       "</div>"
      ],
      "text/plain": [
       "                                             Brand         Storage_RAM_ROM  \\\n",
       "0    OnePlus Nord CE 2 Lite 5G (Blue Tide, 128 GB)   6 GB RAM | 128 GB ROM   \n",
       "1          OnePlus Nord 3 5G (Misty Green, 128 GB)   8 GB RAM | 128 GB ROM   \n",
       "2   OnePlus Nord CE 2 Lite 5G (Black Dusk, 128 GB)   6 GB RAM | 128 GB ROM   \n",
       "3         OnePlus Nord 2T 5G (Gray Shadow, 128 GB)   8 GB RAM | 128 GB ROM   \n",
       "4            OnePlus Nord 2T 5G (Jade Fog, 128 GB)   8 GB RAM | 128 GB ROM   \n",
       "5         OnePlus Nord 2T 5G (Gray Shadow, 128 GB)   8 GB RAM | 128 GB ROM   \n",
       "6          OnePlus Nord 3 5G (Misty Green, 256 GB)  16 GB RAM | 256 GB ROM   \n",
       "7         OnePlus Nord 3 5G (Tempest Gray, 128 GB)   8 GB RAM | 128 GB ROM   \n",
       "8                  OnePlus Nord (Gray Onyx, 64 GB)    6 GB RAM | 64 GB ROM   \n",
       "9         OnePlus Nord 3 5G (Tempest Gray, 256 GB)  16 GB RAM | 256 GB ROM   \n",
       "10    OnePlus NORD CE2 LITE 5G (Blue Tide, 128 GB)   6 GB RAM | 128 GB ROM   \n",
       "11        OnePlus Nord 2T 5G (Gray Shadow, 128 GB)   8 GB RAM | 128 GB ROM   \n",
       "12           OnePlus Nord 2T 5G (Jade Fog, 128 GB)   8 GB RAM | 128 GB ROM   \n",
       "13           OnePlus Nord 2 5G (Blue Haze, 256 GB)  12 GB RAM | 256 GB ROM   \n",
       "14              OnePlus Nord (Blue Marble, 256 GB)  12 GB RAM | 256 GB ROM   \n",
       "15                OnePlus Nord (Gray Onyx, 128 GB)   8 GB RAM | 128 GB ROM   \n",
       "16         OnePlus Nord 2 5G (Gray Sierra, 256 GB)  12 GB RAM | 256 GB ROM   \n",
       "17         OnePlus Nord 2 5G (Gray Sierra, 128 GB)   8 GB RAM | 128 GB ROM   \n",
       "18             OnePlus Nord 2 5G (PAC-MAN, 256 GB)  12 GB RAM | 256 GB ROM   \n",
       "19      OnePlus Nord CE3 5G (Grey Shimmer, 256 GB)  12 GB RAM | 256 GB ROM   \n",
       "20       OnePlus Nord CE 5G (Charcoal Ink, 128 GB)   6 GB RAM | 128 GB ROM   \n",
       "21           OnePlus Nord 2T 5G (Jade Fog, 256 GB)  12 GB RAM | 256 GB ROM   \n",
       "22          OnePlus Nord CE 5G (Blue Void, 128 GB)   8 GB RAM | 128 GB ROM   \n",
       "23        OnePlus Nord 2T 5G (Gray Shadow, 128 GB)   8 GB RAM | 128 GB ROM   \n",
       "\n",
       "                            Amount P_F_Camera  \\\n",
       "0        64MP Rear Camera | 16MP Front Camera   \n",
       "1                            50MP Rear Camera   \n",
       "2        64MP Rear Camera | 16MP Front Camera   \n",
       "3                            50MP Rear Camera   \n",
       "4        50MP Rear Camera | 32MP Front Camera   \n",
       "5        50MP Rear Camera | 32MP Front Camera   \n",
       "6                            50MP Rear Camera   \n",
       "7                            50MP Rear Camera   \n",
       "8   48MP + 8MP | 32MP + 8MP Dual Front Camera   \n",
       "9                            50MP Rear Camera   \n",
       "10                           64MP Rear Camera   \n",
       "11                           50MP Rear Camera   \n",
       "12                           50MP Rear Camera   \n",
       "13                           50MP Rear Camera   \n",
       "14  48MP + 8MP | 32MP + 8MP Dual Front Camera   \n",
       "15  48MP + 8MP | 32MP + 8MP Dual Front Camera   \n",
       "16                           50MP Rear Camera   \n",
       "17                           50MP Rear Camera   \n",
       "18                           50MP Rear Camera   \n",
       "19                           50MP Rear Camera   \n",
       "20                           64MP Rear Camera   \n",
       "21                           50MP Rear Camera   \n",
       "22                           64MP Rear Camera   \n",
       "23                           50MP Rear Camera   \n",
       "\n",
       "                  Display_size_Resolution  \\\n",
       "0            16.74 cm (6.59 inch) Display   \n",
       "1            17.12 cm (6.74 inch) Display   \n",
       "2            16.74 cm (6.59 inch) Display   \n",
       "3             17.02 cm (6.7 inch) Display   \n",
       "4             17.02 cm (6.7 inch) Display   \n",
       "5             17.02 cm (6.7 inch) Display   \n",
       "6            17.12 cm (6.74 inch) Display   \n",
       "7            17.12 cm (6.74 inch) Display   \n",
       "8   16.36 cm (6.44 inch) Full HD+ Display   \n",
       "9            17.12 cm (6.74 inch) Display   \n",
       "10           16.74 cm (6.59 inch) Display   \n",
       "11            17.02 cm (6.7 inch) Display   \n",
       "12            17.02 cm (6.7 inch) Display   \n",
       "13           16.33 cm (6.43 inch) Display   \n",
       "14  16.36 cm (6.44 inch) Full HD+ Display   \n",
       "15  16.36 cm (6.44 inch) Full HD+ Display   \n",
       "16           16.33 cm (6.43 inch) Display   \n",
       "17           16.33 cm (6.43 inch) Display   \n",
       "18           16.33 cm (6.43 inch) Display   \n",
       "19            17.02 cm (6.7 inch) Display   \n",
       "20           16.33 cm (6.43 inch) Display   \n",
       "21            17.02 cm (6.7 inch) Display   \n",
       "22           16.33 cm (6.43 inch) Display   \n",
       "23            17.02 cm (6.7 inch) Display   \n",
       "\n",
       "                                    ProcessorAndCores           Battery  \\\n",
       "0                                           12 Months  5000 mAh Battery   \n",
       "1   Domestic 1 Year of Device & 6 Months for In-Bo...  5000 mAh Battery   \n",
       "2                                           12 months  5000 mAh Battery   \n",
       "3                                            12 Month  4500 mAh Battery   \n",
       "4                                            12 Month  4500 mAh Battery   \n",
       "5                                            12 Month  4500 mAh Battery   \n",
       "6   Domestic 1 Year of Device & 6 Months for In-Bo...  5000 mAh Battery   \n",
       "7   Domestic 1 Year of Device & 6 Months for In-Bo...  5000 mAh Battery   \n",
       "8                Qualcomm® Snapdragon™ 765G Processor  4115 mAh Battery   \n",
       "9   Domestic 1 Year of Device & 6 Months for In-Bo...  5000 mAh Battery   \n",
       "10                   12 MONTHS MANUFACTURING WARRANTY  5000 mAh Battery   \n",
       "11                                           12 Month  4500 mAh Battery   \n",
       "12                                           12 Month  4500 mAh Battery   \n",
       "13                                    1 year Warranty  4500 mAh Battery   \n",
       "14               Qualcomm® Snapdragon™ 765G Processor  4115 mAh Battery   \n",
       "15               Qualcomm® Snapdragon™ 765G Processor  4115 mAh Battery   \n",
       "16                                    1 year Warranty  4500 mAh Battery   \n",
       "17                                    1 year Warranty  4500 mAh Battery   \n",
       "18                                          12 months  4500 mAh Battery   \n",
       "19  Domestic 1 Year of Device & 6 Months for In-Bo...  5000 mAh Battery   \n",
       "20                                    1 Year Warranty  4500 mAh Battery   \n",
       "21                                 12 months Warranty  4500 mAh Battery   \n",
       "22                                    1 Year Warranty  4500 mAh Battery   \n",
       "23                                           12 Month  4500 mAh Battery   \n",
       "\n",
       "      Price  \n",
       "0   ₹17,774  \n",
       "1   ₹32,777  \n",
       "2   ₹17,560  \n",
       "3   ₹28,999  \n",
       "4   ₹28,295  \n",
       "5   ₹27,999  \n",
       "6   ₹37,465  \n",
       "7   ₹32,687  \n",
       "8   ₹22,689  \n",
       "9   ₹37,226  \n",
       "10  ₹17,998  \n",
       "11  ₹28,999  \n",
       "12  ₹27,999  \n",
       "13  ₹32,890  \n",
       "14  ₹28,990  \n",
       "15  ₹25,990  \n",
       "16  ₹34,999  \n",
       "17  ₹29,999  \n",
       "18  ₹37,999  \n",
       "19  ₹32,999  \n",
       "20  ₹22,989  \n",
       "21  ₹33,990  \n",
       "22  ₹24,499  \n",
       "23  ₹28,990  "
      ]
     },
     "execution_count": 30,
     "metadata": {},
     "output_type": "execute_result"
    }
   ],
   "source": [
    "FlipKart"
   ]
  },
  {
   "cell_type": "code",
   "execution_count": 92,
   "id": "10961a7f",
   "metadata": {},
   "outputs": [],
   "source": [
    "FlipKart.to_csv('FlipKart.csv')"
   ]
  },
  {
   "cell_type": "code",
   "execution_count": null,
   "id": "def8a742",
   "metadata": {},
   "outputs": [],
   "source": []
  },
  {
   "cell_type": "markdown",
   "id": "cf4f6d65",
   "metadata": {},
   "source": [
    "Question 8"
   ]
  },
  {
   "cell_type": "code",
   "execution_count": 31,
   "id": "af9edf01",
   "metadata": {},
   "outputs": [],
   "source": [
    "driver=webdriver.Chrome()\n",
    "driver.get( \"https://www.youtube.com/\")\n",
    "time.sleep(2)"
   ]
  },
  {
   "cell_type": "code",
   "execution_count": 32,
   "id": "e8c30bc3",
   "metadata": {},
   "outputs": [],
   "source": [
    "search=driver.find_element(By.XPATH,\"//div[@class='ytd-searchbox-spt']/input\")\n",
    "search.send_keys('perfect')\n",
    "time.sleep(3)"
   ]
  },
  {
   "cell_type": "code",
   "execution_count": 33,
   "id": "a9360ae1",
   "metadata": {},
   "outputs": [],
   "source": [
    "search_btn = driver.find_element(By.ID,\"search-icon-legacy\")\n",
    "search_btn.click()\n",
    "time.sleep(2)"
   ]
  },
  {
   "cell_type": "code",
   "execution_count": 34,
   "id": "421921e9",
   "metadata": {},
   "outputs": [],
   "source": [
    "video = driver.find_element(By.XPATH,'/html/body/ytd-app/div[1]/ytd-page-manager/ytd-search/div[1]/ytd-two-column-search-results-renderer/div/ytd-section-list-renderer/div[2]/ytd-item-section-renderer/div[3]/ytd-video-renderer[2]/div[1]/div/div[1]/div/h3/a/yt-formatted-string')\n",
    "video.click()"
   ]
  },
  {
   "cell_type": "code",
   "execution_count": 35,
   "id": "6cbda166",
   "metadata": {},
   "outputs": [],
   "source": [
    "for _ in range(1000):\n",
    "    driver.execute_script(\"window.scrollBy(0,10000)\")"
   ]
  },
  {
   "cell_type": "code",
   "execution_count": 36,
   "id": "6c4149d9",
   "metadata": {},
   "outputs": [],
   "source": [
    "comments = []\n",
    "comment_time = []\n",
    "Time = []\n",
    "Likes = []\n",
    "No_of_Likes = []"
   ]
  },
  {
   "cell_type": "code",
   "execution_count": 41,
   "id": "9034c5b9",
   "metadata": {},
   "outputs": [],
   "source": [
    "cm = driver.find_elements(By.ID,\"content-text\")\n",
    "for i in cm:\n",
    "    if i.text is None:\n",
    "        comments.append(\"--\")\n",
    "    else:\n",
    "        comments.append(i.text)\n",
    "time.sleep(4)\n",
    "\n",
    "# scrape time when comment was posted\n",
    "tm = driver.find_elements(By.XPATH,\"//a[contains(text(),'ago')]\")\n",
    "for i in tm:\n",
    "    Time.append(i.text)\n",
    "    \n",
    "for i in range(0,len(Time),2):\n",
    "    comment_time.append(Time[i])\n",
    "time.sleep(4)\n",
    "\n",
    "# scrape the comment likes\n",
    "like = driver.find_elements(By.XPATH,\"//span[@class='style-scope ytd-comment-action-buttons-renderer']\")\n",
    "for i in like:\n",
    "    Likes.append(i.text)\n",
    "    \n",
    "for i in range(1,len(Likes),2):\n",
    "    No_of_Likes.append(Likes[i])"
   ]
  },
  {
   "cell_type": "code",
   "execution_count": 42,
   "id": "c6880858",
   "metadata": {},
   "outputs": [
    {
     "name": "stdout",
     "output_type": "stream",
     "text": [
      "1339 939 1878\n"
     ]
    }
   ],
   "source": [
    "print(len(comments),len(comment_time),len(No_of_Likes))"
   ]
  },
  {
   "cell_type": "code",
   "execution_count": 43,
   "id": "bb4e2fb8",
   "metadata": {},
   "outputs": [
    {
     "data": {
      "text/html": [
       "<div>\n",
       "<style scoped>\n",
       "    .dataframe tbody tr th:only-of-type {\n",
       "        vertical-align: middle;\n",
       "    }\n",
       "\n",
       "    .dataframe tbody tr th {\n",
       "        vertical-align: top;\n",
       "    }\n",
       "\n",
       "    .dataframe thead th {\n",
       "        text-align: right;\n",
       "    }\n",
       "</style>\n",
       "<table border=\"1\" class=\"dataframe\">\n",
       "  <thead>\n",
       "    <tr style=\"text-align: right;\">\n",
       "      <th></th>\n",
       "      <th>Comment</th>\n",
       "      <th>Comment Time</th>\n",
       "      <th>Comment Upvotes</th>\n",
       "    </tr>\n",
       "  </thead>\n",
       "  <tbody>\n",
       "    <tr>\n",
       "      <th>0</th>\n",
       "      <td>This song\\n2017:Perfect\\n2018:Perfect\\n2019:Pe...</td>\n",
       "      <td>4 years ago (edited)</td>\n",
       "      <td>22K</td>\n",
       "    </tr>\n",
       "    <tr>\n",
       "      <th>1</th>\n",
       "      <td>Van a pasar años, pero esto siempre será un te...</td>\n",
       "      <td>2 days ago</td>\n",
       "      <td>64</td>\n",
       "    </tr>\n",
       "    <tr>\n",
       "      <th>2</th>\n",
       "      <td>Han pasado años desde que empecé a escucharla ...</td>\n",
       "      <td>1 day ago</td>\n",
       "      <td>31</td>\n",
       "    </tr>\n",
       "    <tr>\n",
       "      <th>3</th>\n",
       "      <td>This song has something..\\nfrom which no soul ...</td>\n",
       "      <td>1 year ago</td>\n",
       "      <td>13</td>\n",
       "    </tr>\n",
       "    <tr>\n",
       "      <th>4</th>\n",
       "      <td>Máš taký silný,  krásny... hlas... až sa mi ch...</td>\n",
       "      <td>2 days ago</td>\n",
       "      <td>8</td>\n",
       "    </tr>\n",
       "    <tr>\n",
       "      <th>...</th>\n",
       "      <td>...</td>\n",
       "      <td>...</td>\n",
       "      <td>...</td>\n",
       "    </tr>\n",
       "    <tr>\n",
       "      <th>495</th>\n",
       "      <td>This song never gets old 3:10</td>\n",
       "      <td>4 years ago</td>\n",
       "      <td>2</td>\n",
       "    </tr>\n",
       "    <tr>\n",
       "      <th>496</th>\n",
       "      <td>is five years now and I’m still listening</td>\n",
       "      <td>11 days ago</td>\n",
       "      <td>3</td>\n",
       "    </tr>\n",
       "    <tr>\n",
       "      <th>497</th>\n",
       "      <td>Damn, I was imagining things in my head with t...</td>\n",
       "      <td>8 days ago</td>\n",
       "      <td></td>\n",
       "    </tr>\n",
       "    <tr>\n",
       "      <th>498</th>\n",
       "      <td>Beginning of 2017-Shape of you\\nMid.- Galway g...</td>\n",
       "      <td>4 years ago (edited)</td>\n",
       "      <td>169</td>\n",
       "    </tr>\n",
       "    <tr>\n",
       "      <th>499</th>\n",
       "      <td>This is one of the most beautiful music videos...</td>\n",
       "      <td>6 days ago</td>\n",
       "      <td>5</td>\n",
       "    </tr>\n",
       "  </tbody>\n",
       "</table>\n",
       "<p>500 rows × 3 columns</p>\n",
       "</div>"
      ],
      "text/plain": [
       "                                               Comment          Comment Time  \\\n",
       "0    This song\\n2017:Perfect\\n2018:Perfect\\n2019:Pe...  4 years ago (edited)   \n",
       "1    Van a pasar años, pero esto siempre será un te...            2 days ago   \n",
       "2    Han pasado años desde que empecé a escucharla ...             1 day ago   \n",
       "3    This song has something..\\nfrom which no soul ...            1 year ago   \n",
       "4    Máš taký silný,  krásny... hlas... až sa mi ch...            2 days ago   \n",
       "..                                                 ...                   ...   \n",
       "495                      This song never gets old 3:10           4 years ago   \n",
       "496         is five years now and I’m still listening            11 days ago   \n",
       "497  Damn, I was imagining things in my head with t...            8 days ago   \n",
       "498  Beginning of 2017-Shape of you\\nMid.- Galway g...  4 years ago (edited)   \n",
       "499  This is one of the most beautiful music videos...            6 days ago   \n",
       "\n",
       "    Comment Upvotes  \n",
       "0               22K  \n",
       "1                64  \n",
       "2                31  \n",
       "3                13  \n",
       "4                 8  \n",
       "..              ...  \n",
       "495               2  \n",
       "496               3  \n",
       "497                  \n",
       "498             169  \n",
       "499               5  \n",
       "\n",
       "[500 rows x 3 columns]"
      ]
     },
     "execution_count": 43,
     "metadata": {},
     "output_type": "execute_result"
    }
   ],
   "source": [
    "Youtube = pd.DataFrame({})\n",
    "Youtube['Comment'] = comments[:500]\n",
    "Youtube['Comment Time'] = comment_time[:500]\n",
    "Youtube['Comment Upvotes'] = No_of_Likes[:500]\n",
    "Youtube"
   ]
  },
  {
   "cell_type": "code",
   "execution_count": null,
   "id": "791eb210",
   "metadata": {},
   "outputs": [],
   "source": []
  },
  {
   "cell_type": "code",
   "execution_count": null,
   "id": "4b67733a",
   "metadata": {},
   "outputs": [],
   "source": []
  },
  {
   "cell_type": "code",
   "execution_count": null,
   "id": "b3fea7d9",
   "metadata": {},
   "outputs": [],
   "source": []
  },
  {
   "cell_type": "code",
   "execution_count": null,
   "id": "32f4d5af",
   "metadata": {},
   "outputs": [],
   "source": []
  },
  {
   "cell_type": "code",
   "execution_count": null,
   "id": "9506605e",
   "metadata": {},
   "outputs": [],
   "source": []
  },
  {
   "cell_type": "code",
   "execution_count": null,
   "id": "55b95c6c",
   "metadata": {},
   "outputs": [],
   "source": []
  },
  {
   "cell_type": "code",
   "execution_count": null,
   "id": "052ee6e2",
   "metadata": {},
   "outputs": [],
   "source": []
  },
  {
   "cell_type": "code",
   "execution_count": null,
   "id": "7975603c",
   "metadata": {},
   "outputs": [],
   "source": []
  },
  {
   "cell_type": "code",
   "execution_count": null,
   "id": "86e8a38f",
   "metadata": {},
   "outputs": [],
   "source": []
  },
  {
   "cell_type": "code",
   "execution_count": null,
   "id": "c360b00d",
   "metadata": {},
   "outputs": [],
   "source": []
  }
 ],
 "metadata": {
  "kernelspec": {
   "display_name": "Python 3 (ipykernel)",
   "language": "python",
   "name": "python3"
  },
  "language_info": {
   "codemirror_mode": {
    "name": "ipython",
    "version": 3
   },
   "file_extension": ".py",
   "mimetype": "text/x-python",
   "name": "python",
   "nbconvert_exporter": "python",
   "pygments_lexer": "ipython3",
   "version": "3.9.13"
  }
 },
 "nbformat": 4,
 "nbformat_minor": 5
}
