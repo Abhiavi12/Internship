{
 "cells": [
  {
   "cell_type": "markdown",
   "id": "14abc41c",
   "metadata": {},
   "source": [
    "Question 1"
   ]
  },
  {
   "cell_type": "code",
   "execution_count": 2,
   "id": "6a9020e0",
   "metadata": {},
   "outputs": [
    {
     "name": "stdout",
     "output_type": "stream",
     "text": [
      "Ajinkya rahane scored 50 plus score in first inning\n"
     ]
    }
   ],
   "source": [
    "import regex as re\n",
    "txt=\"Ajinkya rahane scored 50 plus score in first inning\"\n",
    "pattern = re.findall(\"[A-Za-z0-9]+\",txt)\n",
    "print(txt)"
   ]
  },
  {
   "cell_type": "markdown",
   "id": "f98754d7",
   "metadata": {},
   "source": [
    "Question 2"
   ]
  },
  {
   "cell_type": "code",
   "execution_count": 3,
   "id": "4453142d",
   "metadata": {},
   "outputs": [
    {
     "name": "stdout",
     "output_type": "stream",
     "text": [
      "<regex.Match object; span=(0, 2), match='ab'>\n"
     ]
    }
   ],
   "source": [
    "txt=\"ab\"\n",
    "pattern=r\"^ab*$\"\n",
    "x=re.match(pattern,txt)\n",
    "print(x)"
   ]
  },
  {
   "cell_type": "markdown",
   "id": "b9f1e90f",
   "metadata": {},
   "source": [
    "Question 3"
   ]
  },
  {
   "cell_type": "code",
   "execution_count": 4,
   "id": "ed3a1d29",
   "metadata": {},
   "outputs": [
    {
     "name": "stdout",
     "output_type": "stream",
     "text": [
      "<regex.Match object; span=(0, 3), match='abb'>\n"
     ]
    }
   ],
   "source": [
    "text_1='abb'\n",
    "pattern=r\"^ab+$\"\n",
    "x=re.match(pattern,text_1)\n",
    "print(x)\n"
   ]
  },
  {
   "cell_type": "markdown",
   "id": "63019c1d",
   "metadata": {},
   "source": [
    "Question 4"
   ]
  },
  {
   "cell_type": "code",
   "execution_count": 6,
   "id": "3fce1bb1",
   "metadata": {},
   "outputs": [
    {
     "name": "stdout",
     "output_type": "stream",
     "text": [
      "<regex.Match object; span=(0, 1), match='a'>\n"
     ]
    }
   ],
   "source": [
    "text=[\"an apple a day keeps doctors away\",\"ab\",\"abb\",\"a\"]\n",
    "pattern=r\"^ab?$\"\n",
    "for msg in text:\n",
    "    x=re.search(pattern,msg)\n",
    "print(x)"
   ]
  },
  {
   "cell_type": "markdown",
   "id": "98c5503e",
   "metadata": {},
   "source": [
    "Question 5"
   ]
  },
  {
   "cell_type": "code",
   "execution_count": 7,
   "id": "33cc6806",
   "metadata": {},
   "outputs": [
    {
     "name": "stdout",
     "output_type": "stream",
     "text": [
      "<regex.Match object; span=(0, 4), match='abbb'>\n"
     ]
    }
   ],
   "source": [
    "string=\"abbb\"\n",
    "pattern=r\"^abbb$\"\n",
    "x=re.match(pattern,string)\n",
    "print(x)"
   ]
  },
  {
   "cell_type": "markdown",
   "id": "c59c61a0",
   "metadata": {},
   "source": [
    "Question 6"
   ]
  },
  {
   "cell_type": "code",
   "execution_count": 8,
   "id": "ee8df776",
   "metadata": {},
   "outputs": [
    {
     "name": "stdout",
     "output_type": "stream",
     "text": [
      "['Importance', 'Of', 'Regular', 'Expressions', 'In', 'Python']\n"
     ]
    }
   ],
   "source": [
    "sample=\"ImportanceOfRegularExpressionsInPython\"\n",
    "pattern=\"([A-Z][^A-Z]*)\"\n",
    "x=re.findall(pattern,sample)\n",
    "print(x)"
   ]
  },
  {
   "cell_type": "markdown",
   "id": "571b33a5",
   "metadata": {},
   "source": [
    "Question 7"
   ]
  },
  {
   "cell_type": "code",
   "execution_count": 9,
   "id": "7de15067",
   "metadata": {},
   "outputs": [
    {
     "name": "stdout",
     "output_type": "stream",
     "text": [
      "<regex.Match object; span=(0, 4), match='abbb'>\n"
     ]
    }
   ],
   "source": [
    "strings=[\"ab\",\"abb\",\"abbb\"]\n",
    "pattern=\"^ab{2,3}$\"\n",
    "for msg in strings:\n",
    "    x=re.search(pattern,msg)\n",
    "print(x)"
   ]
  },
  {
   "cell_type": "markdown",
   "id": "e1764815",
   "metadata": {},
   "source": [
    "Question 8"
   ]
  },
  {
   "cell_type": "code",
   "execution_count": 10,
   "id": "1438f0ef",
   "metadata": {},
   "outputs": [
    {
     "name": "stdout",
     "output_type": "stream",
     "text": [
      "['my_name', 'is_smith']\n"
     ]
    }
   ],
   "source": [
    "txt=\"my_name_is_smith\"\n",
    "pattern=r\"[a-z]+_[a-z]+\"\n",
    "x=re.findall(pattern,txt)\n",
    "print(x)"
   ]
  },
  {
   "cell_type": "markdown",
   "id": "2f6af22d",
   "metadata": {},
   "source": [
    "Question 9"
   ]
  },
  {
   "cell_type": "code",
   "execution_count": 11,
   "id": "b1033530",
   "metadata": {},
   "outputs": [
    {
     "name": "stdout",
     "output_type": "stream",
     "text": [
      "<regex.Match object; span=(0, 4), match='abcb'>\n"
     ]
    }
   ],
   "source": [
    "msges=[\"addb\",\"abcb\"]\n",
    "pattern=r\"a..b$\"\n",
    "for msg in msges:\n",
    "    x=re.match(pattern,msg)\n",
    "print(x)"
   ]
  },
  {
   "cell_type": "markdown",
   "id": "079da526",
   "metadata": {},
   "source": [
    "Question 10"
   ]
  },
  {
   "cell_type": "code",
   "execution_count": 12,
   "id": "e035df18",
   "metadata": {},
   "outputs": [
    {
     "name": "stdout",
     "output_type": "stream",
     "text": [
      "<regex.Match object; span=(0, 5), match='Virat'>\n"
     ]
    }
   ],
   "source": [
    "string='Virat kohli is number 1 batsman'\n",
    "pattern=r\"^\\w+\"\n",
    "x=re.match(pattern,string)\n",
    "print(x)"
   ]
  },
  {
   "cell_type": "markdown",
   "id": "54276d60",
   "metadata": {},
   "source": [
    "Question 11"
   ]
  },
  {
   "cell_type": "code",
   "execution_count": 13,
   "id": "b9ea5bca",
   "metadata": {},
   "outputs": [
    {
     "name": "stdout",
     "output_type": "stream",
     "text": [
      "<regex.Match object; span=(0, 11), match='Virat_age34'>\n"
     ]
    }
   ],
   "source": [
    "text=\"Virat_age34\"\n",
    "pattern=r\"[a-zA-Z0-9_]+$\"\n",
    "x=re.search(pattern,text)\n",
    "print(x)"
   ]
  },
  {
   "cell_type": "markdown",
   "id": "0acbac37",
   "metadata": {},
   "source": [
    "Question 12"
   ]
  },
  {
   "cell_type": "code",
   "execution_count": 14,
   "id": "ea05aad0",
   "metadata": {},
   "outputs": [
    {
     "name": "stdout",
     "output_type": "stream",
     "text": [
      "['100']\n"
     ]
    }
   ],
   "source": [
    "text_1=\"100 plus test matches played by Virat\"\n",
    "pattern=r\"\\d+\"\n",
    "x=re.findall(pattern,text_1)\n",
    "print(x)"
   ]
  },
  {
   "cell_type": "markdown",
   "id": "99a1cce1",
   "metadata": {},
   "source": [
    "Question 13"
   ]
  },
  {
   "cell_type": "code",
   "execution_count": 15,
   "id": "4d41735a",
   "metadata": {},
   "outputs": [
    {
     "name": "stdout",
     "output_type": "stream",
     "text": [
      "192.168.1.2\n"
     ]
    }
   ],
   "source": [
    "ip_address=\"192.168.01.002\"\n",
    "x=re.sub(\"\\.[0]*\",\".\",ip_address)\n",
    "print(x)"
   ]
  },
  {
   "cell_type": "markdown",
   "id": "928cb67e",
   "metadata": {},
   "source": [
    "Question 14"
   ]
  },
  {
   "cell_type": "code",
   "execution_count": 16,
   "id": "232b9d4a",
   "metadata": {},
   "outputs": [
    {
     "name": "stdout",
     "output_type": "stream",
     "text": [
      "['August 15th 1947']\n"
     ]
    }
   ],
   "source": [
    "with open(\"content.txt\") as file:\n",
    "    for line in file:\n",
    "        result=re.findall(r\"\\b([A-Za-z]+ \\d+(?:th)? \\d{4})\\b\",line)\n",
    "        print(result)"
   ]
  },
  {
   "cell_type": "markdown",
   "id": "2b49b8e0",
   "metadata": {},
   "source": [
    "Question 15"
   ]
  },
  {
   "cell_type": "code",
   "execution_count": 17,
   "id": "a8e6de15",
   "metadata": {},
   "outputs": [
    {
     "name": "stdout",
     "output_type": "stream",
     "text": [
      "['fox']\n"
     ]
    }
   ],
   "source": [
    "import re\n",
    "pattern=\"fox\"\n",
    "text=\"The quick brown fox jumps over the lazy dog\"\n",
    "matches=re.findall(pattern,text)\n",
    "print(matches)"
   ]
  },
  {
   "cell_type": "code",
   "execution_count": 18,
   "id": "c69b14e1",
   "metadata": {},
   "outputs": [
    {
     "name": "stdout",
     "output_type": "stream",
     "text": [
      "['dog']\n"
     ]
    }
   ],
   "source": [
    "pattern=\"dog\"\n",
    "text=\"The quick brown fox jumps over the lazy dog\"\n",
    "matches=re.findall(pattern,text)\n",
    "print(matches)"
   ]
  },
  {
   "cell_type": "code",
   "execution_count": 19,
   "id": "1a9f5b6a",
   "metadata": {},
   "outputs": [
    {
     "name": "stdout",
     "output_type": "stream",
     "text": [
      "[]\n"
     ]
    }
   ],
   "source": [
    "pattern=\"horse\"\n",
    "text=\"The quick brown fox jumps over the lazy dog\"\n",
    "matches=re.findall(pattern,text)\n",
    "print(matches)"
   ]
  },
  {
   "cell_type": "markdown",
   "id": "df46e769",
   "metadata": {},
   "source": [
    "Question 16"
   ]
  },
  {
   "cell_type": "code",
   "execution_count": 20,
   "id": "e809a3a2",
   "metadata": {},
   "outputs": [
    {
     "name": "stdout",
     "output_type": "stream",
     "text": [
      "['fox']\n"
     ]
    }
   ],
   "source": [
    "pattern=\"fox\"\n",
    "text=\"The quick brown fox jumps over the lazy dog\"\n",
    "matches=re.findall(pattern,text)\n",
    "print(matches)"
   ]
  },
  {
   "cell_type": "code",
   "execution_count": 21,
   "id": "7a808622",
   "metadata": {},
   "outputs": [
    {
     "name": "stdout",
     "output_type": "stream",
     "text": [
      "(16, 19)\n"
     ]
    }
   ],
   "source": [
    "text = \"The quick brown fox jumps over the lazy dog\"\n",
    "x = re.search(r\"\\bfo\\w+\", text)\n",
    "print(x.span())"
   ]
  },
  {
   "cell_type": "markdown",
   "id": "0156fda5",
   "metadata": {},
   "source": [
    "Question 17"
   ]
  },
  {
   "cell_type": "code",
   "execution_count": 22,
   "id": "59a3a902",
   "metadata": {},
   "outputs": [
    {
     "name": "stdout",
     "output_type": "stream",
     "text": [
      "['exercises', 'exercises', 'exercises']\n"
     ]
    }
   ],
   "source": [
    "sample_text=\"Python exercises, PHP exercises, C# exercises\"\n",
    "pattern=\"exercises\"\n",
    "matches=re.findall(pattern,sample_text)\n",
    "print(matches)"
   ]
  },
  {
   "cell_type": "markdown",
   "id": "78eb5eb5",
   "metadata": {},
   "source": [
    "Question 18"
   ]
  },
  {
   "cell_type": "code",
   "execution_count": 23,
   "id": "aecb1065",
   "metadata": {},
   "outputs": [
    {
     "name": "stdout",
     "output_type": "stream",
     "text": [
      "['football', 'football']\n"
     ]
    }
   ],
   "source": [
    "import regex as re\n",
    "sample=\"Sunil chettri is a good football player his skiils in football is awesome\"\n",
    "pattern=\"football\"\n",
    "x=re.findall(pattern,sample)\n",
    "print(x)"
   ]
  },
  {
   "cell_type": "code",
   "execution_count": 24,
   "id": "4b2b02e4",
   "metadata": {},
   "outputs": [
    {
     "name": "stdout",
     "output_type": "stream",
     "text": [
      "(24, 32)\n"
     ]
    }
   ],
   "source": [
    "sample=\"Sunil chettri is a good football player his skiils in football is awesome\"\n",
    "pattern=r\"\\bfoo\\w+\"\n",
    "x=re.search(pattern,sample)\n",
    "print(x.span())"
   ]
  },
  {
   "cell_type": "markdown",
   "id": "8da14122",
   "metadata": {},
   "source": [
    "Question 19"
   ]
  },
  {
   "cell_type": "code",
   "execution_count": 25,
   "id": "f5049bd0",
   "metadata": {},
   "outputs": [
    {
     "name": "stdout",
     "output_type": "stream",
     "text": [
      "19-08-2000\n"
     ]
    }
   ],
   "source": [
    "date=\"2000-08-19\"\n",
    "x=re.sub(r'(\\d{4})-(\\d{1,2})-(\\d{1,2})','\\\\3-\\\\2-\\\\1',date)\n",
    "print(x)"
   ]
  },
  {
   "cell_type": "markdown",
   "id": "de3737a4",
   "metadata": {},
   "source": [
    "Question 20"
   ]
  },
  {
   "cell_type": "code",
   "execution_count": 26,
   "id": "8cbebe5f",
   "metadata": {},
   "outputs": [
    {
     "name": "stdout",
     "output_type": "stream",
     "text": [
      "['apple', 'and', 'an', 'egg', 'eaten', 'evening']\n"
     ]
    }
   ],
   "source": [
    "text=\"An apple and an egg was eaten by me in evening\"\n",
    "pattern=r\"\\b[ae]\\w+\\b\"\n",
    "x=re.findall(pattern,text)\n",
    "print(x)"
   ]
  },
  {
   "cell_type": "markdown",
   "id": "2b136c38",
   "metadata": {},
   "source": [
    "Question 21"
   ]
  },
  {
   "cell_type": "code",
   "execution_count": 27,
   "id": "71151296",
   "metadata": {},
   "outputs": [
    {
     "name": "stdout",
     "output_type": "stream",
     "text": [
      "28\n",
      "position: (16, 18)\n",
      "29\n",
      "position: (33, 35)\n"
     ]
    }
   ],
   "source": [
    "target_string=\"Virat kohli has 28 CENTURIES and 29 HALFCENTURIES in test cricket\"\n",
    "for match in re.finditer(\"\\d+\",target_string):\n",
    "    print(match.group(0))\n",
    "    print(\"position:\",match.span())"
   ]
  },
  {
   "cell_type": "markdown",
   "id": "76d9aee7",
   "metadata": {},
   "source": [
    "Question 22"
   ]
  },
  {
   "cell_type": "code",
   "execution_count": 28,
   "id": "325ac4aa",
   "metadata": {},
   "outputs": [
    {
     "name": "stdout",
     "output_type": "stream",
     "text": [
      "Max_value: 64\n"
     ]
    }
   ],
   "source": [
    "string=\"Team India middle order score 64 and 48 runs\"\n",
    "number = re.findall('\\d+', string)\n",
    "print(\"Max_value:\",max(number))"
   ]
  },
  {
   "cell_type": "markdown",
   "id": "8c11a010",
   "metadata": {},
   "source": [
    "Question 23"
   ]
  },
  {
   "cell_type": "code",
   "execution_count": 29,
   "id": "6ccda25a",
   "metadata": {},
   "outputs": [
    {
     "name": "stdout",
     "output_type": "stream",
     "text": [
      " Rohit Sharma Is Playing Very Well Today\n"
     ]
    }
   ],
   "source": [
    "text = \"RohitSharmaIsPlayingVeryWellToday\"\n",
    "x = re.sub(r\"([A-Z][a-z]+)\", r\" \\1\", text)\n",
    "print(x)"
   ]
  },
  {
   "cell_type": "markdown",
   "id": "a19b5dae",
   "metadata": {},
   "source": [
    "Question 24"
   ]
  },
  {
   "cell_type": "code",
   "execution_count": 30,
   "id": "eee7d5bd",
   "metadata": {},
   "outputs": [
    {
     "name": "stdout",
     "output_type": "stream",
     "text": [
      "['We', 'Will', 'Play', 'Cricket', 'Together']\n"
     ]
    }
   ],
   "source": [
    "text=\"We Will Play Cricket Together\"\n",
    "pattern=r\"[A-Z][a-z]+\"\n",
    "uppercase_lowercase=re.findall(pattern,text)\n",
    "print(uppercase_lowercase)"
   ]
  },
  {
   "cell_type": "markdown",
   "id": "2030c0f5",
   "metadata": {},
   "source": [
    "Question 25"
   ]
  },
  {
   "cell_type": "code",
   "execution_count": 31,
   "id": "4c2baeb7",
   "metadata": {},
   "outputs": [
    {
     "name": "stdout",
     "output_type": "stream",
     "text": [
      "Rohan left his clothes\n"
     ]
    }
   ],
   "source": [
    "data=\"Rohan left left his clothes clothes\"\n",
    "pattern=r\"\\b(\\w+)(?:\\W+\\1\\b)+\"\n",
    "x=re.sub(pattern,r\"\\1\",data)\n",
    "print(x)"
   ]
  },
  {
   "cell_type": "markdown",
   "id": "507e54d0",
   "metadata": {},
   "source": [
    "Question 26"
   ]
  },
  {
   "cell_type": "code",
   "execution_count": 33,
   "id": "13cbf048",
   "metadata": {},
   "outputs": [
    {
     "name": "stdout",
     "output_type": "stream",
     "text": [
      "<regex.Match object; span=(0, 8), match='hello123'>\n"
     ]
    }
   ],
   "source": [
    "string=\"hello123\"\n",
    "pattern=r\"^.*[a-zA-Z0-9]$\"\n",
    "x=re.match(pattern,string)\n",
    "print(x)"
   ]
  },
  {
   "cell_type": "markdown",
   "id": "a85fe25b",
   "metadata": {},
   "source": [
    "Question 27"
   ]
  },
  {
   "cell_type": "code",
   "execution_count": 34,
   "id": "7472453f",
   "metadata": {},
   "outputs": [
    {
     "name": "stdout",
     "output_type": "stream",
     "text": [
      "['#Doltiwal', '#xyzabc', '#Demonetization']\n"
     ]
    }
   ],
   "source": [
    "with open(\"content2.txt\") as file:\n",
    "    for line in file:\n",
    "        x=re.findall(r\"#\\w+\",line)\n",
    "        print(x)"
   ]
  },
  {
   "cell_type": "markdown",
   "id": "fd3aa5e1",
   "metadata": {},
   "source": [
    "Question 28"
   ]
  },
  {
   "cell_type": "code",
   "execution_count": 35,
   "id": "d21bfc5e",
   "metadata": {},
   "outputs": [
    {
     "name": "stdout",
     "output_type": "stream",
     "text": [
      "@Jags123456 Bharat band on 28??<ed><ed>Those who are protesting #demonetization are all different party leaders\n"
     ]
    }
   ],
   "source": [
    "text = \"@Jags123456 Bharat band on 28??<ed><U+00A0><U+00BD><ed><U+00B8><U+0082>Those who are protesting #demonetization are all different party leaders\"\n",
    "x= re.sub(r'<U\\+[A-Za-z0-9]+>','', text)\n",
    "print(x)"
   ]
  },
  {
   "cell_type": "markdown",
   "id": "80fd9fc1",
   "metadata": {},
   "source": [
    "Question 29"
   ]
  },
  {
   "cell_type": "code",
   "execution_count": 36,
   "id": "9bd4d07f",
   "metadata": {},
   "outputs": [
    {
     "name": "stdout",
     "output_type": "stream",
     "text": [
      "['12-09-1992', '15-12-1999']\n",
      "[]\n"
     ]
    }
   ],
   "source": [
    "with open (\"content3.txt\") as file:\n",
    "    for line in file:\n",
    "        x=re.findall(r\"\\d{2}-\\d{2}-\\d{4}\",line)\n",
    "        print(x)"
   ]
  },
  {
   "cell_type": "markdown",
   "id": "ba7e002b",
   "metadata": {},
   "source": [
    "Question 30"
   ]
  },
  {
   "cell_type": "code",
   "execution_count": 37,
   "id": "46b80a05",
   "metadata": {},
   "outputs": [
    {
     "name": "stdout",
     "output_type": "stream",
     "text": [
      "Python:Exercises::PHP:exercises:\n"
     ]
    }
   ],
   "source": [
    "text='Python Exercises, PHP exercises.'\n",
    "result=re.sub(\"[ ,.]\",\":\",text)\n",
    "print(result)"
   ]
  },
  {
   "cell_type": "code",
   "execution_count": null,
   "id": "b5e677c9",
   "metadata": {},
   "outputs": [],
   "source": []
  },
  {
   "cell_type": "code",
   "execution_count": null,
   "id": "5578da2f",
   "metadata": {},
   "outputs": [],
   "source": []
  },
  {
   "cell_type": "code",
   "execution_count": null,
   "id": "14ccf498",
   "metadata": {},
   "outputs": [],
   "source": []
  },
  {
   "cell_type": "code",
   "execution_count": null,
   "id": "44fb8dc2",
   "metadata": {},
   "outputs": [],
   "source": []
  },
  {
   "cell_type": "code",
   "execution_count": null,
   "id": "9db9b0f7",
   "metadata": {},
   "outputs": [],
   "source": []
  },
  {
   "cell_type": "code",
   "execution_count": null,
   "id": "369ed765",
   "metadata": {},
   "outputs": [],
   "source": []
  }
 ],
 "metadata": {
  "kernelspec": {
   "display_name": "Python 3 (ipykernel)",
   "language": "python",
   "name": "python3"
  },
  "language_info": {
   "codemirror_mode": {
    "name": "ipython",
    "version": 3
   },
   "file_extension": ".py",
   "mimetype": "text/x-python",
   "name": "python",
   "nbconvert_exporter": "python",
   "pygments_lexer": "ipython3",
   "version": "3.9.13"
  }
 },
 "nbformat": 4,
 "nbformat_minor": 5
}
